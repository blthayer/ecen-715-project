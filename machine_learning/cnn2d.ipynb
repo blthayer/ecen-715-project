{
 "cells": [
  {
   "cell_type": "markdown",
   "metadata": {},
   "source": [
    "# Imports"
   ]
  },
  {
   "cell_type": "code",
   "execution_count": 1,
   "metadata": {},
   "outputs": [
    {
     "name": "stderr",
     "output_type": "stream",
     "text": [
      "Using TensorFlow backend.\n"
     ]
    }
   ],
   "source": [
    "%matplotlib inline\n",
    "import numpy as np\n",
    "import pandas as pd\n",
    "import tensorflow as tf\n",
    "import os\n",
    "import matplotlib.pyplot as plt\n",
    "# TODO: seeding\n",
    "\n",
    "import keras\n",
    "from keras.models import Sequential\n",
    "from keras.layers import Dense, Dropout, Flatten, Conv2D, MaxPooling2D, Conv1D, SeparableConv1D, MaxPooling1D, Activation"
   ]
  },
  {
   "cell_type": "markdown",
   "metadata": {},
   "source": [
    "# Read Data"
   ]
  },
  {
   "cell_type": "code",
   "execution_count": 2,
   "metadata": {},
   "outputs": [
    {
     "name": "stdout",
     "output_type": "stream",
     "text": [
      "Data loaded.\n"
     ]
    }
   ],
   "source": [
    "x_train_df = pd.read_csv('x_train.csv', index_col=0)\n",
    "x_test_df = pd.read_csv('x_test.csv', index_col=0)\n",
    "y_train_series = pd.read_csv('y_train.csv', index_col=0, header=None)\n",
    "y_test_series = pd.read_csv('y_test.csv', index_col=0, header=None)\n",
    "\n",
    "# Just grab the values for training.\n",
    "x_train = x_train_df.values\n",
    "x_test = x_test_df.values\n",
    "y_train = y_train_series.values\n",
    "y_test = y_test_series.values\n",
    "print('Data loaded.')"
   ]
  },
  {
   "cell_type": "markdown",
   "metadata": {},
   "source": [
    "# Constants for Reshaping"
   ]
  },
  {
   "cell_type": "code",
   "execution_count": 3,
   "metadata": {},
   "outputs": [
    {
     "name": "stdout",
     "output_type": "stream",
     "text": [
      "Constants for reshaping defined.\n"
     ]
    }
   ],
   "source": [
    "# How many weeks are we using for batches?\n",
    "num_weeks = 4\n",
    "\n",
    "# How many full weeks do we have?\n",
    "five_min_per_week = int((1/5) * 60 * 24 * 7)\n",
    "# Given the shape of our data, how many weeks are there? (round down)\n",
    "weeks_train = np.floor(x_train.shape[0] / five_min_per_week).astype(int)\n",
    "weeks_test = np.floor(x_test.shape[0] / five_min_per_week).astype(int)\n",
    "# Given how many weeks we have and assuming we train with 4 week batches, how\n",
    "# many batches will we have?\n",
    "batches_train = int(np.floor(weeks_train) / num_weeks)\n",
    "batches_test = int(np.floor(weeks_test) / num_weeks)\n",
    "# Determine the ending index of the data we'll keep (trim off the end)\n",
    "keep_train = five_min_per_week * batches_train\n",
    "keep_test = five_min_per_week * batches_test\n",
    "# Number of timesteps in a \"month\"\n",
    "t_per_m = five_min_per_week * num_weeks\n",
    "# Num features for convenience.\n",
    "num_f = x_train.shape[1]\n",
    "\n",
    "print('Constants for reshaping defined.')"
   ]
  },
  {
   "cell_type": "markdown",
   "metadata": {},
   "source": [
    "# Reshape Data"
   ]
  },
  {
   "cell_type": "code",
   "execution_count": 4,
   "metadata": {},
   "outputs": [],
   "source": [
    "# For the training data, we'll create 1000 \"images\" by randomly drawing starting positions.\n",
    "np.random.seed(37)\n",
    "\n",
    "def get_starting_indices(num_images, data_length, num_y):\n",
    "    # Create array from 0 to the number of training samples minus one month minus the number of training samples\n",
    "    start_arr = np.arange(start=0, stop=data_length - t_per_m - num_y, dtype=int)\n",
    "\n",
    "    return np.random.choice(start_arr, size=num_images, replace=False)"
   ]
  },
  {
   "cell_type": "code",
   "execution_count": 5,
   "metadata": {},
   "outputs": [
    {
     "name": "stdout",
     "output_type": "stream",
     "text": [
      "Data reshaped.\n"
     ]
    }
   ],
   "source": [
    "# Reshape the data!\n",
    "def reshape_xy(x_in, y_in, num_y, s):\n",
    "    \"\"\"\n",
    "    x_in: x data\n",
    "    y_in: y data\n",
    "    num_y: number of y samples we'll be predicting. E.g., 12 to predict for 1 hour.\n",
    "    s: array of starting indices.\n",
    "    \"\"\"\n",
    "    # Arrange data so we have (batch, height, width, channels).\n",
    "    x_out = np.zeros((len(s), num_weeks, five_min_per_week, x_in.shape[1]))\n",
    "    \n",
    "    # We'll predict some numbers of samples.\n",
    "    y_out = np.zeros((len(s), num_y))\n",
    "    \n",
    "    # Loop over each starting index.\n",
    "    for i, s_idx in enumerate(s):\n",
    "        # Compute ending index.\n",
    "        e_idx = s_idx + t_per_m\n",
    "        \n",
    "        # Loop over the features.\n",
    "        for f in range(x_in.shape[1]):\n",
    "            # Extract data.\n",
    "            d = x_in[s_idx:e_idx, f]\n",
    "            \n",
    "            # Reshape it.\n",
    "            d_r = np.reshape(d, newshape=(num_weeks, five_min_per_week))\n",
    "            \n",
    "            # Dump it into the reshaped x array.\n",
    "            x_out[i, :, :, f] = d_r\n",
    "            \n",
    "        # Extract the approprate y data.\n",
    "        y_out[i, :] = y_in[e_idx:e_idx + num_y].ravel()\n",
    "    \n",
    "    # All done.\n",
    "    return x_out, y_out\n",
    "            \n",
    "\n",
    "# Get our train and test \"images\"\n",
    "num_y=12\n",
    "train_start = get_starting_indices(num_images=10000, data_length=x_train.shape[0], num_y=num_y)\n",
    "x_train_reshaped, y_train_reshaped = reshape_xy(x_in=x_train, y_in=y_train,\n",
    "                                                num_y=num_y, s=train_start)\n",
    "\n",
    "test_start = get_starting_indices(num_images=100, data_length=x_test.shape[0], num_y=num_y)\n",
    "x_test_reshaped, y_test_reshaped = reshape_xy(x_in=x_test, y_in=y_test,\n",
    "                                              num_y=num_y, s=test_start)\n",
    "\n",
    "print('Data reshaped.')"
   ]
  },
  {
   "cell_type": "code",
   "execution_count": 6,
   "metadata": {},
   "outputs": [],
   "source": [
    "# print(train_start.shape)\n",
    "# print(train_start[0:5])\n",
    "# print(x_train_reshaped[0, :, :, 0])\n",
    "# print('')\n",
    "# print(x_train_reshaped[500, :, :, 0])"
   ]
  },
  {
   "cell_type": "markdown",
   "metadata": {},
   "source": [
    "# Create and Train 2D CNN"
   ]
  },
  {
   "cell_type": "code",
   "execution_count": 7,
   "metadata": {},
   "outputs": [
    {
     "name": "stdout",
     "output_type": "stream",
     "text": [
      "Input shape: (4, 2016, 18)\n",
      "WARNING:tensorflow:From /usr/local/lib/python3.5/dist-packages/tensorflow/python/framework/op_def_library.py:263: colocate_with (from tensorflow.python.framework.ops) is deprecated and will be removed in a future version.\n",
      "Instructions for updating:\n",
      "Colocations handled automatically by placer.\n",
      "_________________________________________________________________\n",
      "Layer (type)                 Output Shape              Param #   \n",
      "=================================================================\n",
      "conv2d_1 (Conv2D)            (None, 4, 2016, 16)       20752     \n",
      "_________________________________________________________________\n",
      "activation_1 (Activation)    (None, 4, 2016, 16)       0         \n",
      "_________________________________________________________________\n",
      "max_pooling2d_1 (MaxPooling2 (None, 4, 168, 16)        0         \n",
      "_________________________________________________________________\n",
      "conv2d_2 (Conv2D)            (None, 4, 168, 16)        1552      \n",
      "_________________________________________________________________\n",
      "activation_2 (Activation)    (None, 4, 168, 16)        0         \n",
      "_________________________________________________________________\n",
      "max_pooling2d_2 (MaxPooling2 (None, 2, 14, 16)         0         \n",
      "_________________________________________________________________\n",
      "flatten_1 (Flatten)          (None, 448)               0         \n",
      "_________________________________________________________________\n",
      "dense_1 (Dense)              (None, 128)               57472     \n",
      "_________________________________________________________________\n",
      "dense_2 (Dense)              (None, 12)                1548      \n",
      "=================================================================\n",
      "Total params: 81,324\n",
      "Trainable params: 81,324\n",
      "Non-trainable params: 0\n",
      "_________________________________________________________________\n",
      "None\n",
      "WARNING:tensorflow:From /usr/local/lib/python3.5/dist-packages/tensorflow/python/ops/math_ops.py:3066: to_int32 (from tensorflow.python.ops.math_ops) is deprecated and will be removed in a future version.\n",
      "Instructions for updating:\n",
      "Use tf.cast instead.\n",
      "Train on 8000 samples, validate on 2000 samples\n",
      "Epoch 1/3\n",
      "8000/8000 [==============================] - 23s 3ms/step - loss: 0.8330 - mean_squared_error: 0.8330 - val_loss: 0.6642 - val_mean_squared_error: 0.6642\n",
      "Epoch 2/3\n",
      "8000/8000 [==============================] - 19s 2ms/step - loss: 0.8280 - mean_squared_error: 0.8280 - val_loss: 0.6642 - val_mean_squared_error: 0.6642\n",
      "Epoch 3/3\n",
      "8000/8000 [==============================] - 19s 2ms/step - loss: 0.8280 - mean_squared_error: 0.8280 - val_loss: 0.6642 - val_mean_squared_error: 0.6642\n"
     ]
    },
    {
     "data": {
      "text/plain": [
       "<keras.callbacks.History at 0x7f532d5a9208>"
      ]
     },
     "execution_count": 7,
     "metadata": {},
     "output_type": "execute_result"
    }
   ],
   "source": [
    "# If training is taking too long, we may want to switch to 'SeperableConv2D'\n",
    "# layers instead of simply Conv2D\n",
    "model = Sequential()\n",
    "# kernel size of 12, 4 will give us 12 5 minutes intervals and 4 weeks if the \n",
    "# data is arranged in a weekly format.\n",
    "# \n",
    "# Using strides of 3, 1 so we traverse 15 minutes of data at a time.\n",
    "input_shape = (num_weeks, five_min_per_week, x_train.shape[1])\n",
    "print('Input shape: {}'.format(input_shape))\n",
    "model.add(Conv2D(filters=16, kernel_size=(2, 36), strides=1,\n",
    "                 padding='same', data_format='channels_last',\n",
    "                 input_shape=input_shape))\n",
    "model.add(Activation('relu'))\n",
    "model.add(MaxPooling2D((1, 12)))\n",
    "model.add(Conv2D(filters=16, kernel_size=(2, 3), strides=1,\n",
    "                 padding='same', data_format='channels_last'))\n",
    "model.add(Activation('relu'))\n",
    "model.add(MaxPooling2D((2, 12)))\n",
    "model.add(Flatten())\n",
    "model.add(Dense(128, activation='relu'))\n",
    "model.add(Dense(y_train_reshaped.shape[1], activation='relu'))\n",
    "\n",
    "model.compile(loss=keras.losses.mean_squared_error, optimizer='Adam',\n",
    "              metrics=['mse'])\n",
    "print(model.summary())\n",
    "\n",
    "model.fit(x_train_reshaped, y_train_reshaped, epochs=3, shuffle=True, validation_split=0.2)"
   ]
  },
  {
   "cell_type": "code",
   "execution_count": 8,
   "metadata": {},
   "outputs": [
    {
     "data": {
      "image/png": "[encoded data removed]",
      "text/plain": [
       "<Figure size 432x288 with 1 Axes>"
      ]
     },
     "metadata": {
      "needs_background": "light"
     },
     "output_type": "display_data"
    }
   ],
   "source": [
    "y_pred = model.predict(x_test_reshaped)\n",
    "\n",
    "# TODO: Move this import - inline imports are poor form.\n",
    "plt.scatter(y_test_reshaped.flatten(), y_pred.flatten())\n",
    "# If our predictions were perfect, they'd fall exactly on this line.\n",
    "# plt.plot([-20, 50], [-20,50])\n",
    "plt.xlabel('Actual')\n",
    "plt.ylabel('Predicted')\n",
    "plt.title('2D CNN Actual vs. Predicted')\n",
    "plt.show()"
   ]
  },
  {
   "cell_type": "code",
   "execution_count": null,
   "metadata": {},
   "outputs": [],
   "source": []
  }
 ],
 "metadata": {
  "kernelspec": {
   "display_name": "Python 3",
   "language": "python",
   "name": "python3"
  },
  "language_info": {
   "codemirror_mode": {
    "name": "ipython",
    "version": 3
   },
   "file_extension": ".py",
   "mimetype": "text/x-python",
   "name": "python",
   "nbconvert_exporter": "python",
   "pygments_lexer": "ipython3",
   "version": "3.5.2"
  }
 },
 "nbformat": 4,
 "nbformat_minor": 2
}
