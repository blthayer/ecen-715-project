{
 "cells": [
  {
   "cell_type": "markdown",
   "metadata": {},
   "source": [
    "# Imports"
   ]
  },
  {
   "cell_type": "code",
   "execution_count": 1,
   "metadata": {},
   "outputs": [
    {
     "name": "stderr",
     "output_type": "stream",
     "text": [
      "Using TensorFlow backend.\n"
     ]
    }
   ],
   "source": [
    "%matplotlib inline\n",
    "import numpy as np\n",
    "import pandas as pd\n",
    "import tensorflow as tf\n",
    "import os\n",
    "import matplotlib.pyplot as plt\n",
    "# TODO: seeding\n",
    "\n",
    "import keras\n",
    "from keras.models import Sequential\n",
    "from keras.layers import Dense, Dropout, Flatten, Conv2D, MaxPooling2D, Conv1D, SeparableConv1D, MaxPooling1D, Activation"
   ]
  },
  {
   "cell_type": "markdown",
   "metadata": {},
   "source": [
    "# Function to Read Data"
   ]
  },
  {
   "cell_type": "code",
   "execution_count": 2,
   "metadata": {},
   "outputs": [],
   "source": [
    "def read_data(suffix=''):\n",
    "    \n",
    "    x_train_df = pd.read_csv('x_train' + suffix + '.csv', index_col=0)\n",
    "    x_test_df = pd.read_csv('x_test' + suffix + '.csv', index_col=0)\n",
    "    y_train_series = pd.read_csv('y_train' + suffix + '.csv', index_col=0, header=None)\n",
    "    y_test_series = pd.read_csv('y_test' + suffix + '.csv', index_col=0, header=None)\n",
    "\n",
    "    # Just grab the values for training.\n",
    "    x_train = x_train_df.values\n",
    "    x_test = x_test_df.values\n",
    "    y_train = y_train_series.values\n",
    "    y_test = y_test_series.values\n",
    "    print('Data loaded.')\n",
    "    \n",
    "    return x_train, y_train, x_test, y_test"
   ]
  },
  {
   "cell_type": "markdown",
   "metadata": {},
   "source": [
    "# Read all data"
   ]
  },
  {
   "cell_type": "code",
   "execution_count": 3,
   "metadata": {},
   "outputs": [
    {
     "name": "stdout",
     "output_type": "stream",
     "text": [
      "Data loaded.\n"
     ]
    }
   ],
   "source": [
    "# We're reading all the data first so that when we create our new \"images\" they\n",
    "# can simply be pointers to this data, instead of containing it all.\n",
    "x_tr_s, y_tr_s, x_te_s, y_te_s = read_data(suffix='')\n",
    "# x_tr_mm, y_tr_mm, x_te_mm, y_te_mm = read_data(suffix='_mm')\n",
    "# x_tr_both, y_tr_both, x_te_both, y_te_both = read_data(suffix='_both')\n",
    "# print('All data loaded.')"
   ]
  },
  {
   "cell_type": "markdown",
   "metadata": {},
   "source": [
    "# Constants for Reshaping"
   ]
  },
  {
   "cell_type": "code",
   "execution_count": 4,
   "metadata": {},
   "outputs": [
    {
     "name": "stdout",
     "output_type": "stream",
     "text": [
      "Constants for reshaping defined.\n"
     ]
    }
   ],
   "source": [
    "# How many weeks are we using for batches?\n",
    "num_weeks = 4\n",
    "\n",
    "# How many full weeks do we have?\n",
    "five_min_per_week = int((1/5) * 60 * 24 * 7)\n",
    "# Given the shape of our data, how many weeks are there? (round down)\n",
    "weeks_train = np.floor(x_tr_s.shape[0] / five_min_per_week).astype(int)\n",
    "weeks_test = np.floor(x_te_s.shape[0] / five_min_per_week).astype(int)\n",
    "# Given how many weeks we have and assuming we train with 4 week batches, how\n",
    "# many batches will we have?\n",
    "batches_train = int(np.floor(weeks_train) / num_weeks)\n",
    "batches_test = int(np.floor(weeks_test) / num_weeks)\n",
    "# Determine the ending index of the data we'll keep (trim off the end)\n",
    "keep_train = five_min_per_week * batches_train\n",
    "keep_test = five_min_per_week * batches_test\n",
    "# Number of timesteps in a \"month\"\n",
    "t_per_m = five_min_per_week * num_weeks\n",
    "# Num features for convenience.\n",
    "num_f = x_tr_s.shape[1]\n",
    "\n",
    "# How many timesteps are we predicting?\n",
    "num_y=12*24\n",
    "\n",
    "print('Constants for reshaping defined.')\n",
    "\n",
    "# Keep memory trim\n",
    "del x_tr_s, y_tr_s, x_te_s, y_te_s"
   ]
  },
  {
   "cell_type": "markdown",
   "metadata": {},
   "source": [
    "# Reshape Data"
   ]
  },
  {
   "cell_type": "code",
   "execution_count": 5,
   "metadata": {},
   "outputs": [],
   "source": [
    "# For the training data, we'll create 1000 \"images\" by randomly drawing starting positions.\n",
    "np.random.seed(37)\n",
    "\n",
    "def get_starting_indices(num_images, data_length, n_y):\n",
    "    # Create array from 0 to the number of training samples minus one month minus the number of training samples\n",
    "    start_arr = np.arange(start=0, stop=data_length - t_per_m - n_y, dtype=int)\n",
    "\n",
    "    return np.random.choice(start_arr, size=num_images, replace=False)"
   ]
  },
  {
   "cell_type": "code",
   "execution_count": 6,
   "metadata": {},
   "outputs": [],
   "source": [
    "# Reshape the data!\n",
    "def reshape_xy(x_in, y_in, n_y, s):\n",
    "    \"\"\"\n",
    "    x_in: x data\n",
    "    y_in: y data\n",
    "    num_y: number of y samples we'll be predicting. E.g., 12 to predict for 1 hour.\n",
    "    s: array of starting indices.\n",
    "    \"\"\"\n",
    "    # Arrange data so we have (batch, height, width, channels).\n",
    "    x_out = np.zeros((len(s), num_weeks, five_min_per_week, x_in.shape[1]))\n",
    "    \n",
    "    # We'll predict some numbers of samples.\n",
    "    y_out = np.zeros((len(s), n_y))\n",
    "    \n",
    "    # Loop over each starting index.\n",
    "    for i, s_idx in enumerate(s):\n",
    "        # Compute ending index.\n",
    "        e_idx = s_idx + t_per_m\n",
    "        \n",
    "        # Loop over the features.\n",
    "        for f in range(x_in.shape[1]):\n",
    "            # Extract data.\n",
    "            d = x_in[s_idx:e_idx, f]\n",
    "            \n",
    "            # Reshape it.\n",
    "            d_r = np.reshape(d, newshape=(num_weeks, five_min_per_week))\n",
    "            \n",
    "            # Dump it into the reshaped x array.\n",
    "            x_out[i, :, :, f] = d_r\n",
    "            \n",
    "        # Extract the approprate y data.\n",
    "        y_out[i, :] = y_in[e_idx:e_idx + n_y].ravel()\n",
    "    \n",
    "    # All done.\n",
    "    return x_out, y_out"
   ]
  },
  {
   "cell_type": "code",
   "execution_count": 7,
   "metadata": {},
   "outputs": [],
   "source": [
    "def load_and_reshape(suffix, n_y):\n",
    "#     # Do nasty hard-coding for data selection.\n",
    "#     if suffix == '':\n",
    "#         x_tr, y_tr, x_te, y_te = x_tr_s, y_tr_s, x_te_s, y_te_s\n",
    "#     elif suffix == '_mm':\n",
    "#         x_tr, y_tr, x_te, y_te = x_tr_mm, y_tr_mm, x_te_mm, y_te_mm\n",
    "#     elif suffix == '_both':\n",
    "#         x_tr, y_tr, x_te, y_te = x_tr_both, y_tr_both, x_te_both, y_te_both\n",
    "#     else:\n",
    "#         raise UserWarning('You fat-fingered it and typed the suffix wrong.')\n",
    "\n",
    "    x_tr, y_tr, x_te, y_te = read_data(suffix=suffix)\n",
    "\n",
    "    # r suffix for 'reshaped'\n",
    "    # 5000 is what fits in memory. Why it isn't making efficient pointers, I don't know.\n",
    "    train_start = get_starting_indices(num_images=5000, data_length=x_tr.shape[0], n_y=n_y)\n",
    "    x_trr, y_trr = reshape_xy(x_in=x_tr, y_in=y_tr, n_y=n_y, s=train_start)\n",
    "\n",
    "    test_start = get_starting_indices(num_images=500, data_length=x_te.shape[0], n_y=n_y)\n",
    "    x_ter, y_ter = reshape_xy(x_in=x_te, y_in=y_te, n_y=n_y, s=test_start)\n",
    "    \n",
    "    print('Data reshaped.')\n",
    "    \n",
    "    return x_trr, y_trr, x_ter, y_ter"
   ]
  },
  {
   "cell_type": "markdown",
   "metadata": {},
   "source": [
    "# Function to Initialize 2D CNN, Early Stopping"
   ]
  },
  {
   "cell_type": "code",
   "execution_count": 8,
   "metadata": {},
   "outputs": [],
   "source": [
    "def init_cnn(x_shape, y_shape):\n",
    "    # If training is taking too long, we may want to switch to 'SeperableConv2D'\n",
    "    # layers instead of simply Conv2D\n",
    "    model = Sequential()\n",
    "    # kernel size of 12, 4 will give us 12 5 minutes intervals and 4 weeks if the \n",
    "    # data is arranged in a weekly format.\n",
    "    # \n",
    "    # Using strides of 3, 1 so we traverse 15 minutes of data at a time.\n",
    "    input_shape = (num_weeks, five_min_per_week, num_f)\n",
    "    print('Input shape: {}'.format(input_shape))\n",
    "    model.add(Conv2D(filters=16, kernel_size=(2, 36), strides=1,\n",
    "                     padding='same', data_format='channels_last',\n",
    "                     input_shape=input_shape))\n",
    "    model.add(Activation('relu'))\n",
    "    model.add(MaxPooling2D((1, 12)))\n",
    "    model.add(Conv2D(filters=16, kernel_size=(2, 3), strides=1,\n",
    "                     padding='same', data_format='channels_last'))\n",
    "    model.add(Activation('relu'))\n",
    "    model.add(MaxPooling2D((2, 12)))\n",
    "    model.add(Flatten())\n",
    "    model.add(Dense(128, activation='relu'))\n",
    "    model.add(Dense(y_shape[1], activation='relu'))\n",
    "\n",
    "    model.compile(loss=keras.losses.mean_squared_error, optimizer='Adam',\n",
    "                  metrics=['mse'])\n",
    "    print(model.summary())\n",
    "    return model\n",
    "\n",
    "# Create early stopping callback.\n",
    "early_stop = keras.callbacks.EarlyStopping(monitor='val_loss', patience=5, restore_best_weights=True)"
   ]
  },
  {
   "cell_type": "code",
   "execution_count": 9,
   "metadata": {},
   "outputs": [],
   "source": [
    "def train_predict(suffix):\n",
    "    x_tr, y_tr, x_te, y_te = load_and_reshape(suffix=suffix, n_y=num_y)\n",
    "    \n",
    "    cnn = init_cnn(x_shape=x_tr.shape, y_shape=y_tr.shape)\n",
    "    \n",
    "    cnn.fit(x_tr, y_tr, epochs=100, shuffle=True, validation_split=0.2, callbacks=[early_stop])\n",
    "    \n",
    "    # Keep memory light\n",
    "    del x_tr, y_tr\n",
    "    \n",
    "    y_pred = cnn.predict(x_te)\n",
    "    \n",
    "    return y_pred, x_te, y_te"
   ]
  },
  {
   "cell_type": "code",
   "execution_count": 10,
   "metadata": {},
   "outputs": [],
   "source": [
    "def plot(y_p, x_t, y_t):\n",
    "    \n",
    "    plt.scatter(y_t, y_p)\n",
    "    \n",
    "    plt.xlabel('Actual')\n",
    "    plt.ylabel('Predicted')\n",
    "    plt.title('2D CNN Predicted vs. Actual')\n",
    "    plt.plot([y_t.min(), y_t.max()], [y_t.min(), y_t.max()])"
   ]
  },
  {
   "cell_type": "markdown",
   "metadata": {},
   "source": [
    "# CNN With Standard Scaled Data"
   ]
  },
  {
   "cell_type": "code",
   "execution_count": 11,
   "metadata": {},
   "outputs": [],
   "source": [
    "# y_pred_s, x_te_s, y_te_s = train_predict(suffix='')"
   ]
  },
  {
   "cell_type": "code",
   "execution_count": 12,
   "metadata": {},
   "outputs": [],
   "source": [
    "# plot(y_p=y_pred_s, x_t=x_te_s, y_t=y_te_s)"
   ]
  },
  {
   "cell_type": "code",
   "execution_count": 13,
   "metadata": {},
   "outputs": [],
   "source": [
    "# Clear up memory.\n",
    "# del y_pred_s, x_te_s, y_te_s"
   ]
  },
  {
   "cell_type": "markdown",
   "metadata": {},
   "source": [
    "# CNN With Min/Max Scaling"
   ]
  },
  {
   "cell_type": "code",
   "execution_count": 14,
   "metadata": {},
   "outputs": [
    {
     "name": "stdout",
     "output_type": "stream",
     "text": [
      "Data loaded.\n",
      "Data reshaped.\n",
      "Input shape: (4, 2016, 18)\n",
      "WARNING:tensorflow:From /usr/local/lib/python3.5/dist-packages/tensorflow/python/framework/op_def_library.py:263: colocate_with (from tensorflow.python.framework.ops) is deprecated and will be removed in a future version.\n",
      "Instructions for updating:\n",
      "Colocations handled automatically by placer.\n",
      "_________________________________________________________________\n",
      "Layer (type)                 Output Shape              Param #   \n",
      "=================================================================\n",
      "conv2d_1 (Conv2D)            (None, 4, 2016, 16)       20752     \n",
      "_________________________________________________________________\n",
      "activation_1 (Activation)    (None, 4, 2016, 16)       0         \n",
      "_________________________________________________________________\n",
      "max_pooling2d_1 (MaxPooling2 (None, 4, 168, 16)        0         \n",
      "_________________________________________________________________\n",
      "conv2d_2 (Conv2D)            (None, 4, 168, 16)        1552      \n",
      "_________________________________________________________________\n",
      "activation_2 (Activation)    (None, 4, 168, 16)        0         \n",
      "_________________________________________________________________\n",
      "max_pooling2d_2 (MaxPooling2 (None, 2, 14, 16)         0         \n",
      "_________________________________________________________________\n",
      "flatten_1 (Flatten)          (None, 448)               0         \n",
      "_________________________________________________________________\n",
      "dense_1 (Dense)              (None, 128)               57472     \n",
      "_________________________________________________________________\n",
      "dense_2 (Dense)              (None, 288)               37152     \n",
      "=================================================================\n",
      "Total params: 116,928\n",
      "Trainable params: 116,928\n",
      "Non-trainable params: 0\n",
      "_________________________________________________________________\n",
      "None\n",
      "WARNING:tensorflow:From /usr/local/lib/python3.5/dist-packages/tensorflow/python/ops/math_ops.py:3066: to_int32 (from tensorflow.python.ops.math_ops) is deprecated and will be removed in a future version.\n",
      "Instructions for updating:\n",
      "Use tf.cast instead.\n",
      "Train on 4000 samples, validate on 1000 samples\n",
      "Epoch 1/100\n",
      "4000/4000 [==============================] - 12s 3ms/step - loss: 0.0542 - mean_squared_error: 0.0542 - val_loss: 0.0477 - val_mean_squared_error: 0.0477\n",
      "Epoch 2/100\n",
      "4000/4000 [==============================] - 9s 2ms/step - loss: 0.0477 - mean_squared_error: 0.0477 - val_loss: 0.0477 - val_mean_squared_error: 0.0477\n",
      "Epoch 3/100\n",
      "4000/4000 [==============================] - 9s 2ms/step - loss: 0.0477 - mean_squared_error: 0.0477 - val_loss: 0.0477 - val_mean_squared_error: 0.0477\n",
      "Epoch 4/100\n",
      "4000/4000 [==============================] - 9s 2ms/step - loss: 0.0477 - mean_squared_error: 0.0477 - val_loss: 0.0477 - val_mean_squared_error: 0.0477\n",
      "Epoch 5/100\n",
      "4000/4000 [==============================] - 9s 2ms/step - loss: 0.0477 - mean_squared_error: 0.0477 - val_loss: 0.0477 - val_mean_squared_error: 0.0477\n",
      "Epoch 6/100\n",
      "4000/4000 [==============================] - 9s 2ms/step - loss: 0.0477 - mean_squared_error: 0.0477 - val_loss: 0.0477 - val_mean_squared_error: 0.0477\n",
      "Epoch 7/100\n",
      "4000/4000 [==============================] - 9s 2ms/step - loss: 0.0477 - mean_squared_error: 0.0477 - val_loss: 0.0477 - val_mean_squared_error: 0.0477\n",
      "Epoch 8/100\n",
      "4000/4000 [==============================] - 9s 2ms/step - loss: 0.0477 - mean_squared_error: 0.0477 - val_loss: 0.0477 - val_mean_squared_error: 0.0477\n",
      "Epoch 9/100\n",
      "4000/4000 [==============================] - 9s 2ms/step - loss: 0.0477 - mean_squared_error: 0.0477 - val_loss: 0.0477 - val_mean_squared_error: 0.0477\n",
      "Epoch 10/100\n",
      "4000/4000 [==============================] - 9s 2ms/step - loss: 0.0477 - mean_squared_error: 0.0477 - val_loss: 0.0477 - val_mean_squared_error: 0.0477\n",
      "Epoch 11/100\n",
      "4000/4000 [==============================] - 9s 2ms/step - loss: 0.0477 - mean_squared_error: 0.0477 - val_loss: 0.0477 - val_mean_squared_error: 0.0477\n",
      "Epoch 12/100\n",
      "4000/4000 [==============================] - 9s 2ms/step - loss: 0.0477 - mean_squared_error: 0.0477 - val_loss: 0.0477 - val_mean_squared_error: 0.0477\n",
      "Epoch 13/100\n",
      "4000/4000 [==============================] - 9s 2ms/step - loss: 0.0477 - mean_squared_error: 0.0477 - val_loss: 0.0477 - val_mean_squared_error: 0.0477\n",
      "Epoch 14/100\n",
      "4000/4000 [==============================] - 9s 2ms/step - loss: 0.0477 - mean_squared_error: 0.0477 - val_loss: 0.0477 - val_mean_squared_error: 0.0477\n",
      "Epoch 15/100\n",
      "4000/4000 [==============================] - 9s 2ms/step - loss: 0.0477 - mean_squared_error: 0.0477 - val_loss: 0.0477 - val_mean_squared_error: 0.0477\n",
      "Epoch 16/100\n",
      "4000/4000 [==============================] - 9s 2ms/step - loss: 0.0477 - mean_squared_error: 0.0477 - val_loss: 0.0477 - val_mean_squared_error: 0.0477\n",
      "Epoch 17/100\n",
      "4000/4000 [==============================] - 9s 2ms/step - loss: 0.0477 - mean_squared_error: 0.0477 - val_loss: 0.0477 - val_mean_squared_error: 0.0477\n",
      "Epoch 18/100\n",
      "4000/4000 [==============================] - 9s 2ms/step - loss: 0.0477 - mean_squared_error: 0.0477 - val_loss: 0.0477 - val_mean_squared_error: 0.0477\n",
      "Epoch 19/100\n",
      "4000/4000 [==============================] - 9s 2ms/step - loss: 0.0477 - mean_squared_error: 0.0477 - val_loss: 0.0477 - val_mean_squared_error: 0.0477\n",
      "Epoch 20/100\n",
      "4000/4000 [==============================] - 9s 2ms/step - loss: 0.0477 - mean_squared_error: 0.0477 - val_loss: 0.0477 - val_mean_squared_error: 0.0477\n",
      "Epoch 21/100\n",
      "4000/4000 [==============================] - 9s 2ms/step - loss: 0.0477 - mean_squared_error: 0.0477 - val_loss: 0.0477 - val_mean_squared_error: 0.0477\n"
     ]
    }
   ],
   "source": [
    "y_pred_mm, x_te_mm, y_te_mm = train_predict(suffix='_mm')"
   ]
  },
  {
   "cell_type": "code",
   "execution_count": 15,
   "metadata": {},
   "outputs": [
    {
     "data": {
      "image/png": "[encoded data removed]",
      "text/plain": [
       "<Figure size 432x288 with 1 Axes>"
      ]
     },
     "metadata": {
      "needs_background": "light"
     },
     "output_type": "display_data"
    }
   ],
   "source": [
    "plot(y_p=y_pred_mm, x_t=x_te_mm, y_t=y_te_mm)"
   ]
  },
  {
   "cell_type": "code",
   "execution_count": 16,
   "metadata": {},
   "outputs": [],
   "source": [
    "# Clear up memory\n",
    "# del y_pred_mm, x_te_mm, y_te_mm"
   ]
  },
  {
   "cell_type": "markdown",
   "metadata": {},
   "source": [
    "# CNN With Both Scaling"
   ]
  },
  {
   "cell_type": "code",
   "execution_count": 17,
   "metadata": {},
   "outputs": [],
   "source": [
    "# y_pred_both, x_te_both, y_te_both = train_predict(suffix='_both')"
   ]
  },
  {
   "cell_type": "code",
   "execution_count": 18,
   "metadata": {},
   "outputs": [],
   "source": [
    "# plot(y_p=y_pred_both, x_t=x_te_both, y_t=y_te_both)"
   ]
  },
  {
   "cell_type": "markdown",
   "metadata": {},
   "source": [
    "# Metrics, Plotting, etc."
   ]
  },
  {
   "cell_type": "code",
   "execution_count": 19,
   "metadata": {},
   "outputs": [],
   "source": [
    "from sklearn.metrics import mean_absolute_error, mean_squared_error, r2_score\n",
    "from sklearn.externals import joblib\n",
    "\n",
    "# Load scaler objects which data_prep wrote.\n",
    "standard_y = joblib.load('standard_scaler_y.save')\n",
    "# standard_x = joblib.load('standard_scaler_x.save')\n",
    "minmax_y = joblib.load('min_max_scaler_y.save')\n",
    "# minmax_x = joblib.load('min_max_scaler_x.save')\n",
    "both_y = joblib.load('both_scaler_y.save')\n",
    "# both_x = joblib.load('both_scaler_x.save')"
   ]
  },
  {
   "cell_type": "code",
   "execution_count": 20,
   "metadata": {},
   "outputs": [],
   "source": [
    "def eval_metrics(y_true, y_pred, scaler, scaler2=None):\n",
    "    y_true_scaled = scaler.inverse_transform(y_true)\n",
    "    y_pred_scaled = scaler.inverse_transform(y_pred)\n",
    "    \n",
    "    if scaler2 is not None:\n",
    "        y_true_scaled = scaler2.inverse_transform(y_true_scaled)\n",
    "        y_pred_scaled = scaler2.inverse_transform(y_pred_scaled)\n",
    "    \n",
    "    mae = mean_absolute_error(y_true=y_true_scaled,\n",
    "                              y_pred=y_pred_scaled)\n",
    "    mse = mean_squared_error(y_true=y_true_scaled,\n",
    "                             y_pred=y_pred_scaled)\n",
    "    r2 = r2_score(y_true=y_true_scaled,\n",
    "                  y_pred=y_pred_scaled)\n",
    "    \n",
    "    print('MAE: {:.4f}'.format(mae))\n",
    "    print('MSE: {:.4f}'.format(mse))\n",
    "    print('R2:  {:.4f}'.format(r2))\n",
    "    \n",
    "    plt.plot(np.arange(0, len(y_true_scaled)), y_true_scaled, y_pred_scaled)\n",
    "    plt.legend(['True', 'Predicted'])\n",
    "    plt.xlabel('Time (5-minute intervals for 2018)')\n",
    "    plt.ylabel('Price (USD)')\n",
    "    return y_true_scaled, y_pred_scaled"
   ]
  },
  {
   "cell_type": "markdown",
   "metadata": {},
   "source": [
    "## Min/Max Scaling (Standard failed to learn, ran out of memory to do both)"
   ]
  },
  {
   "cell_type": "code",
   "execution_count": 28,
   "metadata": {},
   "outputs": [
    {
     "name": "stdout",
     "output_type": "stream",
     "text": [
      "NOTE: This is not the true time series of the test data!\n",
      "Instead, it is 500 test months\n",
      "MAE: 499.7132\n",
      "MSE: 953585.5054\n",
      "R2:  -3021.2291\n"
     ]
    },
    {
     "data": {
      "image/png": "[encoded data removed]",
      "text/plain": [
       "<Figure size 432x288 with 1 Axes>"
      ]
     },
     "metadata": {
      "needs_background": "light"
     },
     "output_type": "display_data"
    }
   ],
   "source": [
    "print('NOTE: This is not the true time series of the test data!')\n",
    "print('Instead, it is 500 test months')\n",
    "y_true = y_te_mm.flatten().reshape(-1, 1)\n",
    "y_pred = y_pred_mm.flatten().reshape(-1, 1)\n",
    "y_true_standard, y_pred_standard = \\\n",
    "    eval_metrics(y_true=y_true[0:num_y], y_pred=y_pred[0:num_y], scaler=minmax_y)"
   ]
  },
  {
   "cell_type": "code",
   "execution_count": null,
   "metadata": {},
   "outputs": [],
   "source": []
  }
 ],
 "metadata": {
  "kernelspec": {
   "display_name": "Python 3",
   "language": "python",
   "name": "python3"
  },
  "language_info": {
   "codemirror_mode": {
    "name": "ipython",
    "version": 3
   },
   "file_extension": ".py",
   "mimetype": "text/x-python",
   "name": "python",
   "nbconvert_exporter": "python",
   "pygments_lexer": "ipython3",
   "version": "3.5.2"
  }
 },
 "nbformat": 4,
 "nbformat_minor": 2
}
