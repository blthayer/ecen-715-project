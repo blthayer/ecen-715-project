{
 "cells": [
  {
   "cell_type": "markdown",
   "metadata": {
    "colab_type": "text",
    "id": "Xwl7Ty_YAeo_"
   },
   "source": [
    "# Imports and Seeding"
   ]
  },
  {
   "cell_type": "code",
   "execution_count": 1,
   "metadata": {
    "colab": {
     "base_uri": "https://localhost:8080/",
     "height": 34
    },
    "colab_type": "code",
    "id": "tMoJrBxwADre",
    "outputId": "9b4afb20-57c4-4b7a-cb48-b1d4754278e9"
   },
   "outputs": [
    {
     "name": "stdout",
     "output_type": "stream",
     "text": [
      "Imports complete.\n"
     ]
    },
    {
     "name": "stderr",
     "output_type": "stream",
     "text": [
      "Using TensorFlow backend.\n"
     ]
    }
   ],
   "source": [
    "%matplotlib inline\n",
    "import numpy as np\n",
    "import pandas as pd\n",
    "import tensorflow as tf\n",
    "import os\n",
    "from sklearn.preprocessing import StandardScaler\n",
    "import matplotlib.pyplot as plt\n",
    "from sklearn.ensemble import RandomForestRegressor\n",
    "from sklearn.linear_model import LassoCV, LinearRegression\n",
    "# TODO: seeding\n",
    "\n",
    "import keras\n",
    "from keras.models import Sequential\n",
    "from keras.layers import Dense, Dropout, Flatten, Conv2D, MaxPooling2D, Conv1D, SeparableConv1D, MaxPooling1D\n",
    "# from google.colab import drive\n",
    "print('Imports complete.')"
   ]
  },
  {
   "cell_type": "markdown",
   "metadata": {
    "colab_type": "text",
    "id": "iM5uupH1AjHk"
   },
   "source": [
    "# Mount Google Drive, Read Data"
   ]
  },
  {
   "cell_type": "code",
   "execution_count": 2,
   "metadata": {
    "colab": {
     "base_uri": "https://localhost:8080/",
     "height": 124
    },
    "colab_type": "code",
    "id": "voxj5yn5AlUQ",
    "outputId": "16f7548b-c16a-4113-b247-ae66a5947fbe"
   },
   "outputs": [],
   "source": [
    "# This will mount your personal drive. Note you'll need to authenticate.\n",
    "# drive.mount('/content/drive')"
   ]
  },
  {
   "cell_type": "code",
   "execution_count": 3,
   "metadata": {
    "colab": {
     "base_uri": "https://localhost:8080/",
     "height": 34
    },
    "colab_type": "code",
    "id": "XnEBTAQpBqOT",
    "outputId": "00d27f41-bfcc-48ea-c2cf-4a1923d97f3f"
   },
   "outputs": [
    {
     "name": "stdout",
     "output_type": "stream",
     "text": [
      "Data loaded.\n"
     ]
    }
   ],
   "source": [
    "# Google doesn't seem to currently support accessing a folder which is shared\n",
    "# with you. So, I've uploaded 'all_data.csv' to my own drive. To run, you'll\n",
    "# need to do the same.\n",
    "# os.listdir('/content/drive/My Drive')\n",
    "# TODO: Remove row limitation.\n",
    "# df = pd.read_csv('/content/drive/My Drive/all_data.csv', index_col=0, parse_dates=True,\n",
    "#                  infer_datetime_format=True) #, nrows=(1/5)*60*24*7*4)\n",
    "df = pd.read_csv('all_data.csv', index_col=0, parse_dates=True,\n",
    "                 infer_datetime_format=True)\n",
    "# Why my 'tz_convert' line did nothing in combine_all_data.py, I don't know.\n",
    "df.index = pd.to_datetime(df.index, utc=True)\n",
    "# df.index = df.index.tz_localize('UTC')\n",
    "df = df.tz_convert('America/New_York')\n",
    "print('Data loaded.')"
   ]
  },
  {
   "cell_type": "code",
   "execution_count": 4,
   "metadata": {
    "colab": {
     "base_uri": "https://localhost:8080/",
     "height": 2900
    },
    "colab_type": "code",
    "id": "6UtwjCzvP7uN",
    "outputId": "30fae7f6-7f34-4e7c-8c79-9ca1e4c272e2"
   },
   "outputs": [
    {
     "name": "stdout",
     "output_type": "stream",
     "text": [
      "                           forecast_lbmp__capitl  forecast_lbmp__centrl  \\\n",
      "Time Stamp                                                                \n",
      "2016-01-01 00:00:00-05:00                  30.19                  13.04   \n",
      "2016-01-01 00:05:00-05:00                  30.19                  13.04   \n",
      "2016-01-01 00:10:00-05:00                  30.19                  13.04   \n",
      "2016-01-01 00:15:00-05:00                  30.19                  13.04   \n",
      "2016-01-01 00:20:00-05:00                  30.19                  13.04   \n",
      "\n",
      "                           forecast_lbmp__dunwod  forecast_lbmp__genese  \\\n",
      "Time Stamp                                                                \n",
      "2016-01-01 00:00:00-05:00                  25.79                  12.45   \n",
      "2016-01-01 00:05:00-05:00                  25.79                  12.45   \n",
      "2016-01-01 00:10:00-05:00                  25.79                  12.45   \n",
      "2016-01-01 00:15:00-05:00                  25.79                  12.45   \n",
      "2016-01-01 00:20:00-05:00                  25.79                  12.45   \n",
      "\n",
      "                           forecast_lbmp__hq  forecast_lbmp__hudvl  \\\n",
      "Time Stamp                                                           \n",
      "2016-01-01 00:00:00-05:00              10.47                 25.64   \n",
      "2016-01-01 00:05:00-05:00              10.47                 25.64   \n",
      "2016-01-01 00:10:00-05:00              10.47                 25.64   \n",
      "2016-01-01 00:15:00-05:00              10.47                 25.64   \n",
      "2016-01-01 00:20:00-05:00              10.47                 25.64   \n",
      "\n",
      "                           forecast_lbmp__longil  forecast_lbmp__mhkvl  \\\n",
      "Time Stamp                                                               \n",
      "2016-01-01 00:00:00-05:00                   27.7                 13.53   \n",
      "2016-01-01 00:05:00-05:00                   27.7                 13.53   \n",
      "2016-01-01 00:10:00-05:00                   27.7                 13.53   \n",
      "2016-01-01 00:15:00-05:00                   27.7                 13.53   \n",
      "2016-01-01 00:20:00-05:00                   27.7                 13.53   \n",
      "\n",
      "                           forecast_lbmp__millwd  forecast_lbmp__nyc  ...  \\\n",
      "Time Stamp                                                            ...   \n",
      "2016-01-01 00:00:00-05:00                   25.9               25.84  ...   \n",
      "2016-01-01 00:05:00-05:00                   25.9               25.84  ...   \n",
      "2016-01-01 00:10:00-05:00                   25.9               25.84  ...   \n",
      "2016-01-01 00:15:00-05:00                   25.9               25.84  ...   \n",
      "2016-01-01 00:20:00-05:00                   25.9               25.84  ...   \n",
      "\n",
      "                           drybulbtemperature_e  relativehumidity_e  \\\n",
      "Time Stamp                                                            \n",
      "2016-01-01 00:00:00-05:00                  32.0                85.0   \n",
      "2016-01-01 00:05:00-05:00                  32.0                85.0   \n",
      "2016-01-01 00:10:00-05:00                  32.0                85.0   \n",
      "2016-01-01 00:15:00-05:00                  32.0                85.0   \n",
      "2016-01-01 00:20:00-05:00                  32.0                85.0   \n",
      "\n",
      "                           windspeed_e  windspeed_g  drybulbtemperature_i  \\\n",
      "Time Stamp                                                                  \n",
      "2016-01-01 00:00:00-05:00          8.0     1.000000                  54.0   \n",
      "2016-01-01 00:05:00-05:00          8.0     1.083333                  54.0   \n",
      "2016-01-01 00:10:00-05:00          8.0     1.166667                  54.0   \n",
      "2016-01-01 00:15:00-05:00          8.0     1.250000                  54.0   \n",
      "2016-01-01 00:20:00-05:00          8.0     1.333333                  54.0   \n",
      "\n",
      "                           relativehumidity_i  windspeed_i  \\\n",
      "Time Stamp                                                   \n",
      "2016-01-01 00:00:00-05:00               100.0         10.0   \n",
      "2016-01-01 00:05:00-05:00               100.0         10.0   \n",
      "2016-01-01 00:10:00-05:00               100.0         10.0   \n",
      "2016-01-01 00:15:00-05:00               100.0         10.0   \n",
      "2016-01-01 00:20:00-05:00               100.0         10.0   \n",
      "\n",
      "                           drybulbtemperature_j  relativehumidity_j  \\\n",
      "Time Stamp                                                            \n",
      "2016-01-01 00:00:00-05:00                  43.0                58.0   \n",
      "2016-01-01 00:05:00-05:00                  43.0                58.0   \n",
      "2016-01-01 00:10:00-05:00                  43.0                58.0   \n",
      "2016-01-01 00:15:00-05:00                  43.0                58.0   \n",
      "2016-01-01 00:20:00-05:00                  43.0                58.0   \n",
      "\n",
      "                           windspeed_j  \n",
      "Time Stamp                              \n",
      "2016-01-01 00:00:00-05:00         17.0  \n",
      "2016-01-01 00:05:00-05:00         17.0  \n",
      "2016-01-01 00:10:00-05:00         17.0  \n",
      "2016-01-01 00:15:00-05:00         17.0  \n",
      "2016-01-01 00:20:00-05:00         17.0  \n",
      "\n",
      "[5 rows x 135 columns]\n",
      "                           forecast_lbmp__capitl  forecast_lbmp__centrl  \\\n",
      "Time Stamp                                                                \n",
      "2018-12-31 18:35:00-05:00                  43.42                  24.76   \n",
      "2018-12-31 18:40:00-05:00                  43.42                  24.76   \n",
      "2018-12-31 18:45:00-05:00                  43.42                  24.76   \n",
      "2018-12-31 18:50:00-05:00                  43.42                  24.76   \n",
      "2018-12-31 18:55:00-05:00                  43.42                  24.76   \n",
      "\n",
      "                           forecast_lbmp__dunwod  forecast_lbmp__genese  \\\n",
      "Time Stamp                                                                \n",
      "2018-12-31 18:35:00-05:00                  38.84                  23.66   \n",
      "2018-12-31 18:40:00-05:00                  38.84                  23.66   \n",
      "2018-12-31 18:45:00-05:00                  38.84                  23.66   \n",
      "2018-12-31 18:50:00-05:00                  38.84                  23.66   \n",
      "2018-12-31 18:55:00-05:00                  38.84                  23.66   \n",
      "\n",
      "                           forecast_lbmp__hq  forecast_lbmp__hudvl  \\\n",
      "Time Stamp                                                           \n",
      "2018-12-31 18:35:00-05:00               21.0                 38.66   \n",
      "2018-12-31 18:40:00-05:00               21.0                 38.66   \n",
      "2018-12-31 18:45:00-05:00               21.0                 38.66   \n",
      "2018-12-31 18:50:00-05:00               21.0                 38.66   \n",
      "2018-12-31 18:55:00-05:00               21.0                 38.66   \n",
      "\n",
      "                           forecast_lbmp__longil  forecast_lbmp__mhkvl  \\\n",
      "Time Stamp                                                               \n",
      "2018-12-31 18:35:00-05:00                  52.74                 24.82   \n",
      "2018-12-31 18:40:00-05:00                  52.74                 24.82   \n",
      "2018-12-31 18:45:00-05:00                  52.74                 24.82   \n",
      "2018-12-31 18:50:00-05:00                  52.74                 24.82   \n",
      "2018-12-31 18:55:00-05:00                  52.74                 24.82   \n",
      "\n",
      "                           forecast_lbmp__millwd  forecast_lbmp__nyc  ...  \\\n",
      "Time Stamp                                                            ...   \n",
      "2018-12-31 18:35:00-05:00                  39.01                39.0  ...   \n",
      "2018-12-31 18:40:00-05:00                  39.01                39.0  ...   \n",
      "2018-12-31 18:45:00-05:00                  39.01                39.0  ...   \n",
      "2018-12-31 18:50:00-05:00                  39.01                39.0  ...   \n",
      "2018-12-31 18:55:00-05:00                  39.01                39.0  ...   \n",
      "\n",
      "                           drybulbtemperature_e  relativehumidity_e  \\\n",
      "Time Stamp                                                            \n",
      "2018-12-31 18:35:00-05:00             33.564054           85.652008   \n",
      "2018-12-31 18:40:00-05:00             33.577438           85.653920   \n",
      "2018-12-31 18:45:00-05:00             33.590822           85.655832   \n",
      "2018-12-31 18:50:00-05:00             33.604207           85.657744   \n",
      "2018-12-31 18:55:00-05:00             33.617591           85.659656   \n",
      "\n",
      "                           windspeed_e  windspeed_g  drybulbtemperature_i  \\\n",
      "Time Stamp                                                                  \n",
      "2018-12-31 18:35:00-05:00    13.520076          4.0             39.886364   \n",
      "2018-12-31 18:40:00-05:00    13.539197          4.0             39.954545   \n",
      "2018-12-31 18:45:00-05:00    13.558317          4.0             40.022727   \n",
      "2018-12-31 18:50:00-05:00    13.577438          4.0             40.090909   \n",
      "2018-12-31 18:55:00-05:00    13.596558          4.0             40.159091   \n",
      "\n",
      "                           relativehumidity_i  windspeed_i  \\\n",
      "Time Stamp                                                   \n",
      "2018-12-31 18:35:00-05:00           95.556818     7.704545   \n",
      "2018-12-31 18:40:00-05:00           95.522727     7.681818   \n",
      "2018-12-31 18:45:00-05:00           95.488636     7.659091   \n",
      "2018-12-31 18:50:00-05:00           95.454545     7.636364   \n",
      "2018-12-31 18:55:00-05:00           95.420455     7.613636   \n",
      "\n",
      "                           drybulbtemperature_j  relativehumidity_j  \\\n",
      "Time Stamp                                                            \n",
      "2018-12-31 18:35:00-05:00                  44.0           87.611111   \n",
      "2018-12-31 18:40:00-05:00                  44.0           87.888889   \n",
      "2018-12-31 18:45:00-05:00                  44.0           88.166667   \n",
      "2018-12-31 18:50:00-05:00                  44.0           88.444444   \n",
      "2018-12-31 18:55:00-05:00                  44.0           88.722222   \n",
      "\n",
      "                           windspeed_j  \n",
      "Time Stamp                              \n",
      "2018-12-31 18:35:00-05:00     8.722222  \n",
      "2018-12-31 18:40:00-05:00     8.777778  \n",
      "2018-12-31 18:45:00-05:00     8.833333  \n",
      "2018-12-31 18:50:00-05:00     8.888889  \n",
      "2018-12-31 18:55:00-05:00     8.944444  \n",
      "\n",
      "[5 rows x 135 columns]\n"
     ]
    },
    {
     "name": "stdout",
     "output_type": "stream",
     "text": [
      "Columns with NaNs:\n",
      "Index([], dtype='object')\n",
      "NaN counts:\n",
      "Series([], dtype: int64)\n"
     ]
    }
   ],
   "source": [
    "print(df.head())\n",
    "print(df.tail())\n",
    "# print(df.info())\n",
    "# Since our time is evenly spaced, linear interpolation should do.\n",
    "# Why this didn't take in the script that created the file, I'm not sure.\n",
    "df.interpolate(method='linear', inplace=True)\n",
    "# After interpolation, there's just one NaN left. Use forward and backfilling.\n",
    "df.fillna(method='ffill', inplace=True)\n",
    "df.fillna(method='backfill', inplace=True)\n",
    "# Confirm we got rid of all the NaNs.\n",
    "nan_count = df.isna().sum()\n",
    "nan_cols = nan_count > 0\n",
    "print('Columns with NaNs:')\n",
    "print(df.columns[nan_cols])\n",
    "print('NaN counts:')\n",
    "print(nan_count[nan_cols])"
   ]
  },
  {
   "cell_type": "markdown",
   "metadata": {},
   "source": [
    "# Shift realtime data ahead by one hour"
   ]
  },
  {
   "cell_type": "code",
   "execution_count": 5,
   "metadata": {},
   "outputs": [
    {
     "name": "stdout",
     "output_type": "stream",
     "text": [
      "Time Stamp\n",
      "2016-01-01 01:00:00-05:00    45.27\n",
      "2016-01-01 01:05:00-05:00    20.00\n",
      "2016-01-01 01:10:00-05:00    19.00\n",
      "2016-01-01 01:15:00-05:00    24.38\n",
      "2016-01-01 01:20:00-05:00    47.00\n",
      "Name: realtime_lbmp__nyc, dtype: float64\n",
      "Time Stamp\n",
      "2016-01-01 01:00:00-05:00     18.82\n",
      "2016-01-01 01:05:00-05:00     18.82\n",
      "2016-01-01 01:10:00-05:00    230.87\n",
      "2016-01-01 01:15:00-05:00     54.19\n",
      "2016-01-01 01:20:00-05:00     38.38\n",
      "Name: realtime_lbmp__nyc, dtype: float64\n",
      "Realtime data shifted.\n"
     ]
    }
   ],
   "source": [
    "# We'll predict the lbmp in NYC.\n",
    "pred_col = 'realtime_lbmp__nyc'\n",
    "\n",
    "# First, extract the column we'll be making predictions on.\n",
    "y = df[pred_col].copy(deep=True)\n",
    "\n",
    "# Loop over the columns.\n",
    "for c in df.columns:\n",
    "    # In combine_all_data.py, all realtime data was prefixed with 'realtime_'.\n",
    "    # When we encounter a realtime column, shift it by 12 spots (1 hour for\n",
    "    # 5 minute intervals.)\n",
    "    if c.startswith('realtime_'):\n",
    "        df[c] = df[c].shift(12)\n",
    "\n",
    "# After shifting the realtime data ahead, we have NaNs in our first\n",
    "# 12 rows. Drop them.\n",
    "df.dropna(inplace=True)\n",
    "\n",
    "# Drop the same rows in y.\n",
    "y = y[df.index]\n",
    "\n",
    "print(y.head())\n",
    "print(df[pred_col].head())\n",
    "\n",
    "print('Realtime data shifted.')\n",
    "\n",
    "# print(df.head())"
   ]
  },
  {
   "cell_type": "markdown",
   "metadata": {
    "colab_type": "text",
    "id": "msJRxFsiaOCU"
   },
   "source": [
    "# Split Data Into Testing vs. Training, Extract Feature We'll be Predicting"
   ]
  },
  {
   "cell_type": "code",
   "execution_count": 6,
   "metadata": {
    "colab": {
     "base_uri": "https://localhost:8080/",
     "height": 35
    },
    "colab_type": "code",
    "id": "dbq_7lFnaW4s",
    "outputId": "33bdd6b4-c479-458e-be5a-54f33ee5d60b"
   },
   "outputs": [
    {
     "name": "stdout",
     "output_type": "stream",
     "text": [
      "Data split for train vs. test.\n"
     ]
    }
   ],
   "source": [
    "# Let's look at realtime LBMP in NYC.\n",
    "# No need to drop features since we extracted 'y' before shifting all the realtime data.\n",
    "x = df\n",
    "\n",
    "# TODO: We probably shouldn't be using real-time data in training/predicting,\n",
    "# right? This should maybe be a two-step process: Predict 5-minute real-time \n",
    "# (will need another network/model to do that), then plug that in for LMP\n",
    "# training/predicting.\n",
    "y_train = y['2016':'2017']\n",
    "y_test = y['2018']\n",
    "x_train = x['2016':'2017']\n",
    "x_test = x['2018']\n",
    "\n",
    "print('Data split for train vs. test.')"
   ]
  },
  {
   "cell_type": "markdown",
   "metadata": {
    "colab_type": "text",
    "id": "2RgObSfLZ6qL"
   },
   "source": [
    "# Scale Data"
   ]
  },
  {
   "cell_type": "code",
   "execution_count": 7,
   "metadata": {
    "colab": {
     "base_uri": "https://localhost:8080/",
     "height": 53
    },
    "colab_type": "code",
    "id": "ZfxOgfynZ9VK",
    "outputId": "8407aea9-4f24-4b2c-e181-9170e99a980d"
   },
   "outputs": [
    {
     "name": "stdout",
     "output_type": "stream",
     "text": [
      "Data has been scaled.\n"
     ]
    },
    {
     "data": {
      "text/plain": [
       "False"
      ]
     },
     "execution_count": 7,
     "metadata": {},
     "output_type": "execute_result"
    }
   ],
   "source": [
    "# We'll use \"standard\" scaling\n",
    "# Scale y data.\n",
    "scaler_y = StandardScaler()\n",
    "y_train_scaled = scaler_y.fit_transform(y_train.values.reshape(-1, 1))\n",
    "y_test_scaled = scaler_y.transform(y_test.values.reshape(-1, 1))\n",
    "# \n",
    "scaler_x = StandardScaler()\n",
    "x_train_scaled = scaler_x.fit_transform(x_train.values)\n",
    "x_test_scaled = scaler_x.transform(x_test.values)\n",
    "print('Data has been scaled.')\n",
    "\n",
    "# Ensure we have no NaNs.\n",
    "np.isnan(x_train_scaled).any()"
   ]
  },
  {
   "cell_type": "markdown",
   "metadata": {},
   "source": [
    "# Use Lasso to determine important features"
   ]
  },
  {
   "cell_type": "code",
   "execution_count": 8,
   "metadata": {},
   "outputs": [
    {
     "name": "stdout",
     "output_type": "stream",
     "text": [
      "Alpha: 0.0185282626201218\n",
      "Number of non-zero coefficients: 17\n",
      "Features:\n",
      "['forecast_lbmp__dunwod' 'forecast_lbmp__longil' 'forecast_lbmp__nyc'\n",
      " 'forecast_marginal_cost_losses__capitl'\n",
      " 'forecast_marginal_cost_losses__pjm' 'realtime_lbmp__capitl'\n",
      " 'realtime_lbmp__longil' 'realtime_lbmp__mhkvl' 'realtime_lbmp__nyc'\n",
      " 'realtime_marginal_cost_losses__genese'\n",
      " 'realtime_marginal_cost_losses__hq'\n",
      " 'realtime_marginal_cost_losses__north'\n",
      " 'realtime_marginal_cost_losses__oh'\n",
      " 'realtime_marginal_cost_congestion__genese' 'realtime_load_millwd'\n",
      " 'relativehumidity_a' 'windspeed_i']\n"
     ]
    }
   ],
   "source": [
    "lasso = LassoCV(cv=5, max_iter=100000, n_jobs=-1, fit_intercept=False)\n",
    "lasso.fit(x_train_scaled, y_train_scaled.ravel())\n",
    "print('Alpha: {}'.format(lasso.alpha_))\n",
    "# print('Coefficients:')\n",
    "# print(lin_reg.coef_)\n",
    "non_zero = lasso.coef_ != 0.0\n",
    "print('Number of non-zero coefficients: {}'.format((non_zero).sum()))\n",
    "print('Features:')\n",
    "features_lasso = df.columns.values[non_zero]\n",
    "print(features_lasso)"
   ]
  },
  {
   "cell_type": "code",
   "execution_count": 9,
   "metadata": {},
   "outputs": [
    {
     "name": "stdout",
     "output_type": "stream",
     "text": [
      "Coefficients:\n",
      "[ 0.14141797  0.11684023  0.04218273 -0.00608498  0.02870531  0.07185611\n",
      "  0.01284545  0.05005215  0.15520194 -0.0932728   0.04767164  0.02384489\n",
      "  0.12302205  0.11821404  0.05503059  0.03510136 -0.02610469]\n"
     ]
    },
    {
     "data": {
      "image/png": "[encoded data removed]",
      "text/plain": [
       "<Figure size 432x288 with 1 Axes>"
      ]
     },
     "metadata": {
      "needs_background": "light"
     },
     "output_type": "display_data"
    }
   ],
   "source": [
    "# Perform a simple linear regression with the non-zero lasso coefficients.\n",
    "lin_reg = LinearRegression(fit_intercept=False)\n",
    "lin_reg.fit(x_train_scaled[:, non_zero], y_train_scaled.ravel())\n",
    "print('Coefficients:')\n",
    "print(lin_reg.coef_)\n",
    "y_pred = lin_reg.predict(x_test_scaled[:, non_zero])\n",
    "\n",
    "plt.scatter(y_test_scaled, y_pred)\n",
    "# If our predictions were perfect, they'd fall exactly on this line.\n",
    "plt.plot([-20, 50], [-20,50])\n",
    "plt.xlabel('Actual')\n",
    "plt.ylabel('Predicted')\n",
    "plt.title('Linear Regression with the Top {} Features from Lasso'.format(len(lin_reg.coef_)))\n",
    "plt.show()"
   ]
  },
  {
   "cell_type": "markdown",
   "metadata": {},
   "source": [
    "# Use Random Forest to determine important features"
   ]
  },
  {
   "cell_type": "code",
   "execution_count": 10,
   "metadata": {},
   "outputs": [
    {
     "data": {
      "text/plain": [
       "RandomForestRegressor(bootstrap=True, criterion='mse', max_depth=5,\n",
       "           max_features='auto', max_leaf_nodes=None,\n",
       "           min_impurity_decrease=0.0, min_impurity_split=None,\n",
       "           min_samples_leaf=1, min_samples_split=2,\n",
       "           min_weight_fraction_leaf=0.0, n_estimators=500, n_jobs=-1,\n",
       "           oob_score=False, random_state=0, verbose=0, warm_start=False)"
      ]
     },
     "execution_count": 10,
     "metadata": {},
     "output_type": "execute_result"
    }
   ],
   "source": [
    "# Create RandomForest classifier\n",
    "# Original results came from n_estimators=1000, max_depth=7.\n",
    "# Rolling that back to n_estimators=500, max_depth=5\n",
    "# NOTE: It looks like our top ten features come out to be the same-ish.\n",
    "rf = RandomForestRegressor(n_estimators=500, random_state=0, n_jobs=-1, max_depth=5)\n",
    "rf.fit(x_train_scaled, np.ravel(y_train_scaled))"
   ]
  },
  {
   "cell_type": "code",
   "execution_count": 11,
   "metadata": {},
   "outputs": [
    {
     "name": "stdout",
     "output_type": "stream",
     "text": [
      "1. feature realtime_lbmp__nyc (0.37525738969255995)\n",
      "2. feature forecast_load_hudvl (0.10161565152566736)\n",
      "3. feature forecast_marginal_cost_congestion__genese (0.07304440975386955)\n",
      "4. feature forecast_marginal_cost_congestion__west (0.06369285153671604)\n",
      "5. feature windspeed_a (0.04292468739453225)\n",
      "6. feature forecast_lbmp__pjm (0.03791740786329071)\n",
      "7. feature realtime_marginal_cost_congestion__genese (0.02979590374397821)\n",
      "8. feature realtime_load_capitl (0.02442665455361339)\n",
      "9. feature realtime_marginal_cost_congestion__west (0.022693391742802063)\n",
      "10. feature realtime_load_mhkvl (0.02139565172277501)\n",
      "11. feature forecast_lbmp__nyc (0.017890800668073515)\n",
      "12. feature realtime_lbmp__longil (0.01596265665614748)\n",
      "13. feature relativehumidity_i (0.01256203314001334)\n",
      "14. feature realtime_marginal_cost_losses__west (0.009334067634002683)\n",
      "15. feature realtime_marginal_cost_losses__genese (0.008339788548220149)\n"
     ]
    }
   ],
   "source": [
    "# Display the top features.\n",
    "importances = rf.feature_importances_\n",
    "indices = np.argsort(importances)[::-1]\n",
    "# print feature importances in descending order\n",
    "for f in range(15):\n",
    "    print(\"{}. feature {} ({})\".format(f + 1, df.columns[indices[f]],\n",
    "                                       importances[indices[f]]))\n",
    "    \n",
    "# Grab as many features as we got from Lasso.\n",
    "features_rf = df.columns.values[indices[0:len(features_lasso)]]"
   ]
  },
  {
   "cell_type": "code",
   "execution_count": 12,
   "metadata": {},
   "outputs": [
    {
     "data": {
      "image/png": "[encoded data removed]",
      "text/plain": [
       "<Figure size 432x288 with 1 Axes>"
      ]
     },
     "metadata": {
      "needs_background": "light"
     },
     "output_type": "display_data"
    }
   ],
   "source": [
    "y_pred = rf.predict(x_test_scaled)\n",
    "\n",
    "plt.scatter(y_test_scaled, y_pred)\n",
    "# If our predictions were perfect, they'd fall exactly on this line.\n",
    "plt.plot([-20, 50], [-20,50])\n",
    "plt.xlabel('Actual')\n",
    "plt.ylabel('Predicted')\n",
    "plt.title('Random Forest Predictions')\n",
    "plt.show()"
   ]
  },
  {
   "cell_type": "markdown",
   "metadata": {},
   "source": [
    "# Compare Lasso and RandomForest features"
   ]
  },
  {
   "cell_type": "code",
   "execution_count": 14,
   "metadata": {},
   "outputs": [
    {
     "name": "stdout",
     "output_type": "stream",
     "text": [
      "6 common features from Lasso and RandomForest:\n",
      "{'realtime_marginal_cost_losses__genese', 'forecast_lbmp__nyc', 'realtime_marginal_cost_losses__oh', 'realtime_lbmp__nyc', 'realtime_lbmp__longil', 'realtime_marginal_cost_congestion__genese'}\n",
      "\n",
      "Top ten features for Lasso and RandomForest:\n",
      "                                       Lasso  \\\n",
      "0                         realtime_lbmp__nyc   \n",
      "1                      forecast_lbmp__dunwod   \n",
      "2          realtime_marginal_cost_losses__oh   \n",
      "3  realtime_marginal_cost_congestion__genese   \n",
      "4                      forecast_lbmp__longil   \n",
      "5      realtime_marginal_cost_losses__genese   \n",
      "6                      realtime_lbmp__capitl   \n",
      "7                       realtime_load_millwd   \n",
      "8                       realtime_lbmp__mhkvl   \n",
      "9          realtime_marginal_cost_losses__hq   \n",
      "\n",
      "                                RandomForest  \n",
      "0                         realtime_lbmp__nyc  \n",
      "1                        forecast_load_hudvl  \n",
      "2  forecast_marginal_cost_congestion__genese  \n",
      "3    forecast_marginal_cost_congestion__west  \n",
      "4                                windspeed_a  \n",
      "5                         forecast_lbmp__pjm  \n",
      "6  realtime_marginal_cost_congestion__genese  \n",
      "7                       realtime_load_capitl  \n",
      "8    realtime_marginal_cost_congestion__west  \n",
      "9                        realtime_load_mhkvl  \n",
      "Expected features:\n",
      "['realtime_load_millwd', 'realtime_marginal_cost_congestion__west', 'realtime_marginal_cost_losses__hq', 'windspeed_a', 'forecast_lbmp__dunwod', 'forecast_load_hudvl', 'realtime_load_capitl', 'forecast_lbmp__pjm', 'realtime_load_mhkvl', 'realtime_marginal_cost_losses__genese', 'realtime_marginal_cost_losses__oh', 'realtime_lbmp__capitl', 'realtime_lbmp__nyc', 'realtime_lbmp__mhkvl', 'forecast_marginal_cost_congestion__west', 'forecast_marginal_cost_congestion__genese', 'realtime_marginal_cost_congestion__genese', 'forecast_lbmp__longil']\n",
      "Feautures reference by index:\n",
      "['realtime_load_millwd', 'realtime_marginal_cost_congestion__west', 'realtime_marginal_cost_losses__hq', 'windspeed_a', 'forecast_lbmp__dunwod', 'forecast_load_hudvl', 'realtime_load_capitl', 'forecast_lbmp__pjm', 'realtime_load_mhkvl', 'realtime_marginal_cost_losses__genese', 'realtime_marginal_cost_losses__oh', 'realtime_lbmp__capitl', 'realtime_lbmp__nyc', 'realtime_lbmp__mhkvl', 'forecast_marginal_cost_congestion__west', 'forecast_marginal_cost_congestion__genese', 'realtime_marginal_cost_congestion__genese', 'forecast_lbmp__longil']\n"
     ]
    }
   ],
   "source": [
    "common_features = set(features_lasso) & set(features_rf)\n",
    "print('{} common features from Lasso and RandomForest:'.format(len(common_features)))\n",
    "print(common_features)\n",
    "\n",
    "# Let's grab the top 10 RF features and the top 10 Lasso features and create the intersection.\n",
    "# Start by creating a dictionary of Lasso features.\n",
    "lasso_dict = {}\n",
    "for ind, col in enumerate(features_lasso):\n",
    "    lasso_dict[col] = abs(lin_reg.coef_[ind])\n",
    "    \n",
    "# Sort.\n",
    "lasso_top_ten = sorted(lasso_dict.items(), key=lambda kv: kv[1], reverse=True)\n",
    "lasso_top_ten = [x[0] for x in lasso_top_ten[0:10]]\n",
    "\n",
    "print('')\n",
    "print('Top ten features for Lasso and RandomForest:')\n",
    "top_ten_df = pd.DataFrame({'Lasso': lasso_top_ten, 'RandomForest': features_rf[0:10]})\n",
    "print(top_ten_df)\n",
    "\n",
    "# Take the union of the top ten features for both models.\n",
    "features_to_use = list(set(lasso_top_ten) | set(features_rf[0:10]))\n",
    "# print('')\n",
    "# print('Union of top ten Lasso and top ten RF features ({} features):'.format(len(features_to_use)))\n",
    "# print(features_to_use)\n",
    "\n",
    "# Get the indices of these features in the original DataFrame.\n",
    "col_list = list(df.columns.values)\n",
    "feature_indices = [col_list.index(x) for x in features_to_use]\n",
    "\n",
    "# Check.\n",
    "print('Expected features:')\n",
    "print(features_to_use)\n",
    "print('Feautures reference by index:')\n",
    "print(list(df.columns.values[feature_indices]))"
   ]
  },
  {
   "cell_type": "markdown",
   "metadata": {},
   "source": [
    "# Extract most important features"
   ]
  },
  {
   "cell_type": "code",
   "execution_count": 45,
   "metadata": {},
   "outputs": [
    {
     "name": "stdout",
     "output_type": "stream",
     "text": [
      "(210516, 18)\n"
     ]
    },
    {
     "name": "stderr",
     "output_type": "stream",
     "text": [
      "/usr/local/lib/python3.5/dist-packages/ipykernel_launcher.py:9: FutureWarning: The signature of `Series.to_csv` was aligned to that of `DataFrame.to_csv`, and argument 'header' will change its default value from False to True: please pass an explicit value to suppress this warning.\n",
      "  if __name__ == '__main__':\n",
      "/usr/local/lib/python3.5/dist-packages/ipykernel_launcher.py:10: FutureWarning: The signature of `Series.to_csv` was aligned to that of `DataFrame.to_csv`, and argument 'header' will change its default value from False to True: please pass an explicit value to suppress this warning.\n",
      "  # Remove the CWD from sys.path while we load stuff.\n"
     ]
    },
    {
     "name": "stdout",
     "output_type": "stream",
     "text": [
      "Scaled data saved to file.\n"
     ]
    }
   ],
   "source": [
    "# Save data to file so we can use other notebooks to do the ML.\n",
    "pd.DataFrame(data=x_train_scaled[:, feature_indices],\n",
    "             columns=df.columns[feature_indices]).to_csv('x_train.csv')\n",
    "pd.DataFrame(data=x_test_scaled[:, feature_indices],\n",
    "             columns=df.columns[feature_indices]).to_csv('x_test.csv')\n",
    "\n",
    "pd.Series(data=y_train_scaled.ravel(), name=pred_col).to_csv('y_train.csv')\n",
    "pd.Series(data=y_test_scaled.ravel(), name=pred_col).to_csv('y_test.csv')\n",
    "print('Scaled data saved to file.')"
   ]
  }
 ],
 "metadata": {
  "accelerator": "GPU",
  "colab": {
   "collapsed_sections": [],
   "name": "ecen-715-project",
   "provenance": [],
   "version": "0.3.2"
  },
  "kernelspec": {
   "display_name": "Python 3",
   "language": "python",
   "name": "python3"
  },
  "language_info": {
   "codemirror_mode": {
    "name": "ipython",
    "version": 3
   },
   "file_extension": ".py",
   "mimetype": "text/x-python",
   "name": "python",
   "nbconvert_exporter": "python",
   "pygments_lexer": "ipython3",
   "version": "3.5.2"
  }
 },
 "nbformat": 4,
 "nbformat_minor": 1
}
