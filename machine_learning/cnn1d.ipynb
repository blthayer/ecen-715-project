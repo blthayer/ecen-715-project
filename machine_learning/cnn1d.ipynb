{
 "cells": [
  {
   "cell_type": "markdown",
   "metadata": {},
   "source": [
    "# Imports"
   ]
  },
  {
   "cell_type": "code",
   "execution_count": 1,
   "metadata": {},
   "outputs": [
    {
     "name": "stderr",
     "output_type": "stream",
     "text": [
      "Using TensorFlow backend.\n"
     ]
    }
   ],
   "source": [
    "%matplotlib inline\n",
    "import numpy as np\n",
    "import pandas as pd\n",
    "import tensorflow as tf\n",
    "import os\n",
    "import matplotlib.pyplot as plt\n",
    "# TODO: seeding\n",
    "\n",
    "import keras\n",
    "from keras.models import Sequential\n",
    "from keras.layers import Dense, Dropout, Flatten, Conv2D, MaxPooling2D, Conv1D, SeparableConv1D, MaxPooling1D"
   ]
  },
  {
   "cell_type": "markdown",
   "metadata": {},
   "source": [
    "# Read Data"
   ]
  },
  {
   "cell_type": "code",
   "execution_count": 2,
   "metadata": {},
   "outputs": [
    {
     "name": "stdout",
     "output_type": "stream",
     "text": [
      "Data loaded.\n"
     ]
    }
   ],
   "source": [
    "x_train_df = pd.read_csv('x_train.csv', index_col=0)\n",
    "x_test_df = pd.read_csv('x_test.csv', index_col=0)\n",
    "y_train_series = pd.read_csv('y_train.csv', index_col=0, header=None)\n",
    "y_test_series = pd.read_csv('y_test.csv', index_col=0, header=None)\n",
    "\n",
    "# Just grab the values for training.\n",
    "x_train = x_train_df.values\n",
    "x_test = x_test_df.values\n",
    "y_train = y_train_series.values\n",
    "y_test = y_test_series.values\n",
    "print('Data loaded.')"
   ]
  },
  {
   "cell_type": "markdown",
   "metadata": {},
   "source": [
    "# Contants for Reshaping"
   ]
  },
  {
   "cell_type": "code",
   "execution_count": 3,
   "metadata": {},
   "outputs": [
    {
     "name": "stdout",
     "output_type": "stream",
     "text": [
      "Constants for reshaping defined.\n"
     ]
    }
   ],
   "source": [
    "# How many weeks are we using for batches?\n",
    "num_weeks = 4\n",
    "\n",
    "# How many full weeks do we have?\n",
    "five_min_per_week = int((1/5) * 60 * 24 * 7)\n",
    "# Given the shape of our data, how many weeks are there? (round down)\n",
    "weeks_train = np.floor(x_train.shape[0] / five_min_per_week).astype(int)\n",
    "weeks_test = np.floor(x_test.shape[0] / five_min_per_week).astype(int)\n",
    "# Given how many weeks we have and assuming we train with 4 week batches, how\n",
    "# many batches will we have?\n",
    "batches_train = int(np.floor(weeks_train) / num_weeks)\n",
    "batches_test = int(np.floor(weeks_test) / num_weeks)\n",
    "# Determine the ending index of the data we'll keep (trim off the end)\n",
    "keep_train = five_min_per_week * batches_train\n",
    "keep_test = five_min_per_week * batches_test\n",
    "# Number of timesteps in a \"month\"\n",
    "t_per_m = five_min_per_week * num_weeks\n",
    "# Num features for convenience.\n",
    "num_f = x_train.shape[1]\n",
    "\n",
    "print('Constants for reshaping defined.')"
   ]
  },
  {
   "cell_type": "markdown",
   "metadata": {},
   "source": [
    "# Reshape Data for 1D CNN"
   ]
  },
  {
   "cell_type": "code",
   "execution_count": 4,
   "metadata": {},
   "outputs": [
    {
     "name": "stdout",
     "output_type": "stream",
     "text": [
      "Data reshaped for 1D CNN\n"
     ]
    }
   ],
   "source": [
    "x_1d_train = np.zeros((batches_train, t_per_m, num_f))\n",
    "# y_1d_train = np.zeros((batches_train, t_per_m))\n",
    "y_1d_train = np.zeros((batches_train, 1))\n",
    "\n",
    "x_1d_test = np.zeros((batches_test, t_per_m, num_f))\n",
    "# y_1d_test = np.zeros((batches_test, t_per_m))\n",
    "y_1d_test = np.zeros((batches_test, 1))\n",
    "\n",
    "# Loop and put each month into the correct spot.\n",
    "for b in range(x_1d_train.shape[0]):\n",
    "    # Determine starting and ending index:\n",
    "    start_idx = int(b * t_per_m)\n",
    "    end_idx = start_idx + t_per_m\n",
    "\n",
    "    # Drop the data in.\n",
    "    x_1d_train[b, :, :] = x_train[start_idx:end_idx, :]\n",
    "    y_1d_train[b] = y_train[end_idx]\n",
    "#   y_1d_train[b, :] = y_train[start_idx:end_idx, :].ravel()\n",
    "    \n",
    "        # Repeat for the testing data. However, we'll bail if we get an index error.\n",
    "    try:\n",
    "      x_1d_test[b, :, :] = x_test[start_idx:end_idx, :]\n",
    "#       y_1d_test[b, :] = y_test[start_idx:end_idx, :].ravel()\n",
    "      y_1d_test[b, :] = y_test[end_idx].ravel()\n",
    "      \n",
    "    except IndexError:\n",
    "      pass\n",
    "\n",
    "print('Data reshaped for 1D CNN')"
   ]
  },
  {
   "cell_type": "markdown",
   "metadata": {},
   "source": [
    "# Create and Train 1D CNN"
   ]
  },
  {
   "cell_type": "code",
   "execution_count": 5,
   "metadata": {},
   "outputs": [
    {
     "name": "stdout",
     "output_type": "stream",
     "text": [
      "WARNING:tensorflow:From /usr/local/lib/python3.5/dist-packages/tensorflow/python/framework/op_def_library.py:263: colocate_with (from tensorflow.python.framework.ops) is deprecated and will be removed in a future version.\n",
      "Instructions for updating:\n",
      "Colocations handled automatically by placer.\n",
      "WARNING:tensorflow:From /usr/local/lib/python3.5/dist-packages/keras/backend/tensorflow_backend.py:3445: calling dropout (from tensorflow.python.ops.nn_ops) with keep_prob is deprecated and will be removed in a future version.\n",
      "Instructions for updating:\n",
      "Please use `rate` instead of `keep_prob`. Rate should be set to `rate = 1 - keep_prob`.\n",
      "_________________________________________________________________\n",
      "Layer (type)                 Output Shape              Param #   \n",
      "=================================================================\n",
      "separable_conv1d_1 (Separabl (None, 8064, 32)          1256      \n",
      "_________________________________________________________________\n",
      "max_pooling1d_1 (MaxPooling1 (None, 672, 32)           0         \n",
      "_________________________________________________________________\n",
      "separable_conv1d_2 (Separabl (None, 672, 32)           2208      \n",
      "_________________________________________________________________\n",
      "max_pooling1d_2 (MaxPooling1 (None, 56, 32)            0         \n",
      "_________________________________________________________________\n",
      "flatten_1 (Flatten)          (None, 1792)              0         \n",
      "_________________________________________________________________\n",
      "dense_1 (Dense)              (None, 512)               918016    \n",
      "_________________________________________________________________\n",
      "dropout_1 (Dropout)          (None, 512)               0         \n",
      "_________________________________________________________________\n",
      "dense_2 (Dense)              (None, 1)                 513       \n",
      "=================================================================\n",
      "Total params: 921,993\n",
      "Trainable params: 921,993\n",
      "Non-trainable params: 0\n",
      "_________________________________________________________________\n",
      "WARNING:tensorflow:From /usr/local/lib/python3.5/dist-packages/tensorflow/python/ops/math_ops.py:3066: to_int32 (from tensorflow.python.ops.math_ops) is deprecated and will be removed in a future version.\n",
      "Instructions for updating:\n",
      "Use tf.cast instead.\n",
      "Epoch 1/10\n",
      "26/26 [==============================] - 2s 69ms/step - loss: 0.2204 - mean_squared_error: 0.2204\n",
      "Epoch 2/10\n",
      "26/26 [==============================] - 0s 3ms/step - loss: 0.1778 - mean_squared_error: 0.1778\n",
      "Epoch 3/10\n",
      "26/26 [==============================] - 0s 3ms/step - loss: 0.3875 - mean_squared_error: 0.3875\n",
      "Epoch 4/10\n",
      "26/26 [==============================] - 0s 2ms/step - loss: 0.0414 - mean_squared_error: 0.0414\n",
      "Epoch 5/10\n",
      "26/26 [==============================] - 0s 2ms/step - loss: 0.1212 - mean_squared_error: 0.1212\n",
      "Epoch 6/10\n",
      "26/26 [==============================] - 0s 2ms/step - loss: 0.1071 - mean_squared_error: 0.1071\n",
      "Epoch 7/10\n",
      "26/26 [==============================] - 0s 2ms/step - loss: 0.0378 - mean_squared_error: 0.0378\n",
      "Epoch 8/10\n",
      "26/26 [==============================] - 0s 2ms/step - loss: 0.0148 - mean_squared_error: 0.0148\n",
      "Epoch 9/10\n",
      "26/26 [==============================] - 0s 2ms/step - loss: 0.0356 - mean_squared_error: 0.0356\n",
      "Epoch 10/10\n",
      "26/26 [==============================] - 0s 2ms/step - loss: 0.0921 - mean_squared_error: 0.0921\n"
     ]
    },
    {
     "data": {
      "text/plain": [
       "<keras.callbacks.History at 0x7f470794a438>"
      ]
     },
     "execution_count": 5,
     "metadata": {},
     "output_type": "execute_result"
    }
   ],
   "source": [
    "# https://keras.io/layers/convolutional/\n",
    "cnn1d = Sequential()\n",
    "# Kernel size of 36 - 3 hours of 5 minute windows?\n",
    "# cnn1d.add(Conv1D(filters=8, kernel_size=36, padding='same',\n",
    "#                  input_shape=(t_per_m, num_f)))\n",
    "cnn1d.add(SeparableConv1D(filters=32, kernel_size=36, padding='same',\n",
    "                 input_shape=(t_per_m, num_f)))\n",
    "cnn1d.add(MaxPooling1D(pool_size=12))\n",
    "cnn1d.add(SeparableConv1D(filters=32, kernel_size=36, padding='same',\n",
    "                 input_shape=(t_per_m, num_f)))\n",
    "cnn1d.add(MaxPooling1D(pool_size=12))\n",
    "cnn1d.add(Flatten())\n",
    "cnn1d.add(Dense(512, activation='relu'))\n",
    "cnn1d.add(Dropout(0.25))\n",
    "cnn1d.add(Dense(1))\n",
    "          \n",
    "cnn1d.compile(loss='mean_squared_error', optimizer='adam', metrics=['mse'])\n",
    "\n",
    "cnn1d.summary()\n",
    "\n",
    "cnn1d.fit(x_1d_train, y_1d_train, epochs=10)"
   ]
  },
  {
   "cell_type": "code",
   "execution_count": 6,
   "metadata": {},
   "outputs": [
    {
     "data": {
      "image/png": "[encoded data removed]",
      "text/plain": [
       "<Figure size 432x288 with 1 Axes>"
      ]
     },
     "metadata": {
      "needs_background": "light"
     },
     "output_type": "display_data"
    }
   ],
   "source": [
    "y_pred = cnn1d.predict(x_1d_test)\n",
    "\n",
    "plt.scatter(y_1d_test.flatten(), y_pred.flatten())\n",
    "# If our predictions were perfect, they'd fall exactly on this line.\n",
    "# plt.plot([-20, 50], [-20,50])\n",
    "plt.xlabel('Actual')\n",
    "plt.ylabel('Predicted')\n",
    "plt.title('1D CNN Predicted vs. Actual')\n",
    "plt.show()"
   ]
  },
  {
   "cell_type": "code",
   "execution_count": null,
   "metadata": {},
   "outputs": [],
   "source": []
  }
 ],
 "metadata": {
  "kernelspec": {
   "display_name": "Python 3",
   "language": "python",
   "name": "python3"
  },
  "language_info": {
   "codemirror_mode": {
    "name": "ipython",
    "version": 3
   },
   "file_extension": ".py",
   "mimetype": "text/x-python",
   "name": "python",
   "nbconvert_exporter": "python",
   "pygments_lexer": "ipython3",
   "version": "3.5.2"
  }
 },
 "nbformat": 4,
 "nbformat_minor": 2
}
