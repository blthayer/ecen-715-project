{
  "nbformat": 4,
  "nbformat_minor": 0,
  "metadata": {
    "colab": {
      "name": "ecen-715-project",
      "version": "0.3.2",
      "provenance": [],
      "collapsed_sections": []
    },
    "kernelspec": {
      "name": "python3",
      "display_name": "Python 3"
    },
    "accelerator": "GPU"
  },
  "cells": [
    {
      "metadata": {
        "id": "Xwl7Ty_YAeo_",
        "colab_type": "text"
      },
      "cell_type": "markdown",
      "source": [
        "\n",
        "\n",
        "```\n",
        "# This is formatted as code\n",
        "```\n",
        "\n",
        "# Imports and Seeding"
      ]
    },
    {
      "metadata": {
        "id": "tMoJrBxwADre",
        "colab_type": "code",
        "outputId": "9b4afb20-57c4-4b7a-cb48-b1d4754278e9",
        "colab": {
          "base_uri": "https://localhost:8080/",
          "height": 34
        }
      },
      "cell_type": "code",
      "source": [
        "import numpy as np\n",
        "import pandas as pd\n",
        "import tensorflow as tf\n",
        "import os\n",
        "from sklearn.preprocessing import StandardScaler\n",
        "# TODO: seeding\n",
        "\n",
        "import keras\n",
        "from keras.models import Sequential\n",
        "from keras.layers import Dense, Dropout, Flatten, Conv2D, MaxPooling2D, Conv1D\n",
        "from google.colab import drive"
      ],
      "execution_count": 0,
      "outputs": [
        {
          "output_type": "stream",
          "text": [
            "Using TensorFlow backend.\n"
          ],
          "name": "stderr"
        }
      ]
    },
    {
      "metadata": {
        "id": "iM5uupH1AjHk",
        "colab_type": "text"
      },
      "cell_type": "markdown",
      "source": [
        "# Mount Google Drive, Read Data"
      ]
    },
    {
      "metadata": {
        "id": "voxj5yn5AlUQ",
        "colab_type": "code",
        "outputId": "16f7548b-c16a-4113-b247-ae66a5947fbe",
        "colab": {
          "base_uri": "https://localhost:8080/",
          "height": 124
        }
      },
      "cell_type": "code",
      "source": [
        "# This will mount your personal drive. Note you'll need to authenticate.\n",
        "drive.mount('/content/drive')"
      ],
      "execution_count": 0,
      "outputs": [
        {
          "output_type": "stream",
          "text": [
            "Go to this URL in a browser: https://accounts.google.com/o/oauth2/auth?client_id=947318989803-6bn6qk8qdgf4n4g3pfee6491hc0brc4i.apps.googleusercontent.com&redirect_uri=urn%3Aietf%3Awg%3Aoauth%3A2.0%3Aoob&scope=email%20https%3A%2F%2Fwww.googleapis.com%2Fauth%2Fdocs.test%20https%3A%2F%2Fwww.googleapis.com%2Fauth%2Fdrive%20https%3A%2F%2Fwww.googleapis.com%2Fauth%2Fdrive.photos.readonly%20https%3A%2F%2Fwww.googleapis.com%2Fauth%2Fpeopleapi.readonly&response_type=code\n",
            "\n",
            "Enter your authorization code:\n",
            "··········\n",
            "Mounted at /content/drive\n"
          ],
          "name": "stdout"
        }
      ]
    },
    {
      "metadata": {
        "id": "XnEBTAQpBqOT",
        "colab_type": "code",
        "outputId": "00d27f41-bfcc-48ea-c2cf-4a1923d97f3f",
        "colab": {
          "base_uri": "https://localhost:8080/",
          "height": 34
        }
      },
      "cell_type": "code",
      "source": [
        "# Google doesn't seem to currently support accessing a folder which is shared\n",
        "# with you. So, I've uploaded 'all_data.csv' to my own drive. To run, you'll\n",
        "# need to do the same.\n",
        "# os.listdir('/content/drive/My Drive')\n",
        "# TODO: Remove row limitation.\n",
        "df = pd.read_csv('/content/drive/My Drive/all_data.csv', index_col=0, parse_dates=True,\n",
        "                 infer_datetime_format=True) #, nrows=(1/5)*60*24*7*4)\n",
        "# Why my 'tz_convert' line did nothing in combine_all_data.py, I don't know.\n",
        "df.index = pd.to_datetime(df.index, utc=True)\n",
        "# df.index = df.index.tz_localize('UTC')\n",
        "df = df.tz_convert('America/New_York')\n",
        "print('Data loaded.')"
      ],
      "execution_count": 0,
      "outputs": [
        {
          "output_type": "stream",
          "text": [
            "Data loaded.\n"
          ],
          "name": "stdout"
        }
      ]
    },
    {
      "metadata": {
        "id": "6UtwjCzvP7uN",
        "colab_type": "code",
        "outputId": "30fae7f6-7f34-4e7c-8c79-9ca1e4c272e2",
        "colab": {
          "base_uri": "https://localhost:8080/",
          "height": 2900
        }
      },
      "cell_type": "code",
      "source": [
        "print(df.head())\n",
        "print(df.tail())\n",
        "# print(df.info())\n",
        "# Since our time is evenly spaced, linear interpolation should do.\n",
        "# Why this didn't take in the script that created the file, I'm not sure.\n",
        "df.interpolate(method='linear', inplace=True)\n",
        "# After interpolation, there's just one NaN left. Use forward and backfilling.\n",
        "df.fillna(method='ffill', inplace=True)\n",
        "df.fillna(method='backfill', inplace=True)\n",
        "# Confirm we got rid of all the NaNs.\n",
        "nan_count = df.isna().sum()\n",
        "nan_cols = nan_count > 0\n",
        "print('Columns with NaNs:')\n",
        "print(df.columns[nan_cols])\n",
        "print('NaN counts:')\n",
        "print(nan_count[nan_cols])"
      ],
      "execution_count": 0,
      "outputs": [
        {
          "output_type": "stream",
          "text": [
            "                           forecast_lbmp__capitl  forecast_lbmp__centrl  \\\n",
            "Time Stamp                                                                \n",
            "2016-01-01 00:00:00-05:00                  30.19                  13.04   \n",
            "2016-01-01 00:05:00-05:00                  30.19                  13.04   \n",
            "2016-01-01 00:10:00-05:00                  30.19                  13.04   \n",
            "2016-01-01 00:15:00-05:00                  30.19                  13.04   \n",
            "2016-01-01 00:20:00-05:00                  30.19                  13.04   \n",
            "\n",
            "                           forecast_lbmp__dunwod  forecast_lbmp__genese  \\\n",
            "Time Stamp                                                                \n",
            "2016-01-01 00:00:00-05:00                  25.79                  12.45   \n",
            "2016-01-01 00:05:00-05:00                  25.79                  12.45   \n",
            "2016-01-01 00:10:00-05:00                  25.79                  12.45   \n",
            "2016-01-01 00:15:00-05:00                  25.79                  12.45   \n",
            "2016-01-01 00:20:00-05:00                  25.79                  12.45   \n",
            "\n",
            "                           forecast_lbmp__hq  forecast_lbmp__hudvl  \\\n",
            "Time Stamp                                                           \n",
            "2016-01-01 00:00:00-05:00              10.47                 25.64   \n",
            "2016-01-01 00:05:00-05:00              10.47                 25.64   \n",
            "2016-01-01 00:10:00-05:00              10.47                 25.64   \n",
            "2016-01-01 00:15:00-05:00              10.47                 25.64   \n",
            "2016-01-01 00:20:00-05:00              10.47                 25.64   \n",
            "\n",
            "                           forecast_lbmp__longil  forecast_lbmp__mhkvl  \\\n",
            "Time Stamp                                                               \n",
            "2016-01-01 00:00:00-05:00                   27.7                 13.53   \n",
            "2016-01-01 00:05:00-05:00                   27.7                 13.53   \n",
            "2016-01-01 00:10:00-05:00                   27.7                 13.53   \n",
            "2016-01-01 00:15:00-05:00                   27.7                 13.53   \n",
            "2016-01-01 00:20:00-05:00                   27.7                 13.53   \n",
            "\n",
            "                           forecast_lbmp__millwd  forecast_lbmp__nyc  ...  \\\n",
            "Time Stamp                                                            ...   \n",
            "2016-01-01 00:00:00-05:00                   25.9               25.84  ...   \n",
            "2016-01-01 00:05:00-05:00                   25.9               25.84  ...   \n",
            "2016-01-01 00:10:00-05:00                   25.9               25.84  ...   \n",
            "2016-01-01 00:15:00-05:00                   25.9               25.84  ...   \n",
            "2016-01-01 00:20:00-05:00                   25.9               25.84  ...   \n",
            "\n",
            "                           drybulbtemperature_e  relativehumidity_e  \\\n",
            "Time Stamp                                                            \n",
            "2016-01-01 00:00:00-05:00                  32.0                85.0   \n",
            "2016-01-01 00:05:00-05:00                  32.0                85.0   \n",
            "2016-01-01 00:10:00-05:00                  32.0                85.0   \n",
            "2016-01-01 00:15:00-05:00                  32.0                85.0   \n",
            "2016-01-01 00:20:00-05:00                  32.0                85.0   \n",
            "\n",
            "                           windspeed_e  windspeed_g  drybulbtemperature_i  \\\n",
            "Time Stamp                                                                  \n",
            "2016-01-01 00:00:00-05:00          8.0     1.000000                  54.0   \n",
            "2016-01-01 00:05:00-05:00          8.0     1.083333                  54.0   \n",
            "2016-01-01 00:10:00-05:00          8.0     1.166667                  54.0   \n",
            "2016-01-01 00:15:00-05:00          8.0     1.250000                  54.0   \n",
            "2016-01-01 00:20:00-05:00          8.0     1.333333                  54.0   \n",
            "\n",
            "                           relativehumidity_i  windspeed_i  \\\n",
            "Time Stamp                                                   \n",
            "2016-01-01 00:00:00-05:00               100.0         10.0   \n",
            "2016-01-01 00:05:00-05:00               100.0         10.0   \n",
            "2016-01-01 00:10:00-05:00               100.0         10.0   \n",
            "2016-01-01 00:15:00-05:00               100.0         10.0   \n",
            "2016-01-01 00:20:00-05:00               100.0         10.0   \n",
            "\n",
            "                           drybulbtemperature_j  relativehumidity_j  \\\n",
            "Time Stamp                                                            \n",
            "2016-01-01 00:00:00-05:00                  43.0                58.0   \n",
            "2016-01-01 00:05:00-05:00                  43.0                58.0   \n",
            "2016-01-01 00:10:00-05:00                  43.0                58.0   \n",
            "2016-01-01 00:15:00-05:00                  43.0                58.0   \n",
            "2016-01-01 00:20:00-05:00                  43.0                58.0   \n",
            "\n",
            "                           windspeed_j  \n",
            "Time Stamp                              \n",
            "2016-01-01 00:00:00-05:00         17.0  \n",
            "2016-01-01 00:05:00-05:00         17.0  \n",
            "2016-01-01 00:10:00-05:00         17.0  \n",
            "2016-01-01 00:15:00-05:00         17.0  \n",
            "2016-01-01 00:20:00-05:00         17.0  \n",
            "\n",
            "[5 rows x 135 columns]\n",
            "                           forecast_lbmp__capitl  forecast_lbmp__centrl  \\\n",
            "Time Stamp                                                                \n",
            "2018-12-31 18:35:00-05:00                  43.42                  24.76   \n",
            "2018-12-31 18:40:00-05:00                  43.42                  24.76   \n",
            "2018-12-31 18:45:00-05:00                  43.42                  24.76   \n",
            "2018-12-31 18:50:00-05:00                  43.42                  24.76   \n",
            "2018-12-31 18:55:00-05:00                  43.42                  24.76   \n",
            "\n",
            "                           forecast_lbmp__dunwod  forecast_lbmp__genese  \\\n",
            "Time Stamp                                                                \n",
            "2018-12-31 18:35:00-05:00                  38.84                  23.66   \n",
            "2018-12-31 18:40:00-05:00                  38.84                  23.66   \n",
            "2018-12-31 18:45:00-05:00                  38.84                  23.66   \n",
            "2018-12-31 18:50:00-05:00                  38.84                  23.66   \n",
            "2018-12-31 18:55:00-05:00                  38.84                  23.66   \n",
            "\n",
            "                           forecast_lbmp__hq  forecast_lbmp__hudvl  \\\n",
            "Time Stamp                                                           \n",
            "2018-12-31 18:35:00-05:00               21.0                 38.66   \n",
            "2018-12-31 18:40:00-05:00               21.0                 38.66   \n",
            "2018-12-31 18:45:00-05:00               21.0                 38.66   \n",
            "2018-12-31 18:50:00-05:00               21.0                 38.66   \n",
            "2018-12-31 18:55:00-05:00               21.0                 38.66   \n",
            "\n",
            "                           forecast_lbmp__longil  forecast_lbmp__mhkvl  \\\n",
            "Time Stamp                                                               \n",
            "2018-12-31 18:35:00-05:00                  52.74                 24.82   \n",
            "2018-12-31 18:40:00-05:00                  52.74                 24.82   \n",
            "2018-12-31 18:45:00-05:00                  52.74                 24.82   \n",
            "2018-12-31 18:50:00-05:00                  52.74                 24.82   \n",
            "2018-12-31 18:55:00-05:00                  52.74                 24.82   \n",
            "\n",
            "                           forecast_lbmp__millwd  forecast_lbmp__nyc  ...  \\\n",
            "Time Stamp                                                            ...   \n",
            "2018-12-31 18:35:00-05:00                  39.01                39.0  ...   \n",
            "2018-12-31 18:40:00-05:00                  39.01                39.0  ...   \n",
            "2018-12-31 18:45:00-05:00                  39.01                39.0  ...   \n",
            "2018-12-31 18:50:00-05:00                  39.01                39.0  ...   \n",
            "2018-12-31 18:55:00-05:00                  39.01                39.0  ...   \n",
            "\n",
            "                           drybulbtemperature_e  relativehumidity_e  \\\n",
            "Time Stamp                                                            \n",
            "2018-12-31 18:35:00-05:00             33.564054           85.652008   \n",
            "2018-12-31 18:40:00-05:00             33.577438           85.653920   \n",
            "2018-12-31 18:45:00-05:00             33.590822           85.655832   \n",
            "2018-12-31 18:50:00-05:00             33.604207           85.657744   \n",
            "2018-12-31 18:55:00-05:00             33.617591           85.659656   \n",
            "\n",
            "                           windspeed_e  windspeed_g  drybulbtemperature_i  \\\n",
            "Time Stamp                                                                  \n",
            "2018-12-31 18:35:00-05:00    13.520076          4.0             39.886364   \n",
            "2018-12-31 18:40:00-05:00    13.539197          4.0             39.954545   \n",
            "2018-12-31 18:45:00-05:00    13.558317          4.0             40.022727   \n",
            "2018-12-31 18:50:00-05:00    13.577438          4.0             40.090909   \n",
            "2018-12-31 18:55:00-05:00    13.596558          4.0             40.159091   \n",
            "\n",
            "                           relativehumidity_i  windspeed_i  \\\n",
            "Time Stamp                                                   \n",
            "2018-12-31 18:35:00-05:00           95.556818     7.704545   \n",
            "2018-12-31 18:40:00-05:00           95.522727     7.681818   \n",
            "2018-12-31 18:45:00-05:00           95.488636     7.659091   \n",
            "2018-12-31 18:50:00-05:00           95.454545     7.636364   \n",
            "2018-12-31 18:55:00-05:00           95.420455     7.613636   \n",
            "\n",
            "                           drybulbtemperature_j  relativehumidity_j  \\\n",
            "Time Stamp                                                            \n",
            "2018-12-31 18:35:00-05:00                  44.0           87.611111   \n",
            "2018-12-31 18:40:00-05:00                  44.0           87.888889   \n",
            "2018-12-31 18:45:00-05:00                  44.0           88.166667   \n",
            "2018-12-31 18:50:00-05:00                  44.0           88.444444   \n",
            "2018-12-31 18:55:00-05:00                  44.0           88.722222   \n",
            "\n",
            "                           windspeed_j  \n",
            "Time Stamp                              \n",
            "2018-12-31 18:35:00-05:00     8.722222  \n",
            "2018-12-31 18:40:00-05:00     8.777778  \n",
            "2018-12-31 18:45:00-05:00     8.833333  \n",
            "2018-12-31 18:50:00-05:00     8.888889  \n",
            "2018-12-31 18:55:00-05:00     8.944444  \n",
            "\n",
            "[5 rows x 135 columns]\n",
            "Columns with NaNs:\n",
            "Index([], dtype='object')\n",
            "NaN counts:\n",
            "Series([], dtype: int64)\n"
          ],
          "name": "stdout"
        }
      ]
    },
    {
      "metadata": {
        "id": "msJRxFsiaOCU",
        "colab_type": "text"
      },
      "cell_type": "markdown",
      "source": [
        "# Split Data Into Testing vs. Training, Extract Feature We'll be Predicting"
      ]
    },
    {
      "metadata": {
        "id": "dbq_7lFnaW4s",
        "colab_type": "code",
        "outputId": "33bdd6b4-c479-458e-be5a-54f33ee5d60b",
        "colab": {
          "base_uri": "https://localhost:8080/",
          "height": 35
        }
      },
      "cell_type": "code",
      "source": [
        "# Let's look at realtime LBMP in NYC.\n",
        "y = df['realtime_lbmp__nyc']\n",
        "x = df.drop(labels='realtime_lbmp__nyc', axis=1)\n",
        "\n",
        "# TODO: We probably shouldn't be using real-time data in training/predicting,\n",
        "# right? This should maybe be a two-step process: Predict 5-minute real-time \n",
        "# (will need another network/model to do that), then plug that in for LMP\n",
        "# training/predicting.\n",
        "y_train = y['2016':'2017']\n",
        "y_test = y['2018']\n",
        "x_train = x['2016':'2017']\n",
        "x_test = x['2018']\n",
        "\n",
        "print('Data split for train vs. test.')"
      ],
      "execution_count": 0,
      "outputs": [
        {
          "output_type": "stream",
          "text": [
            "Data split for train vs. test.\n"
          ],
          "name": "stdout"
        }
      ]
    },
    {
      "metadata": {
        "id": "2RgObSfLZ6qL",
        "colab_type": "text"
      },
      "cell_type": "markdown",
      "source": [
        "# Scale Data"
      ]
    },
    {
      "metadata": {
        "id": "ZfxOgfynZ9VK",
        "colab_type": "code",
        "outputId": "8407aea9-4f24-4b2c-e181-9170e99a980d",
        "colab": {
          "base_uri": "https://localhost:8080/",
          "height": 53
        }
      },
      "cell_type": "code",
      "source": [
        "# We'll use \"standard\" scaling\n",
        "# Scale y data.\n",
        "scaler_y = StandardScaler()\n",
        "y_train_scaled = scaler_y.fit_transform(y_train.values.reshape(-1, 1))\n",
        "y_test_scaled = scaler_y.transform(y_test.values.reshape(-1, 1))\n",
        "# \n",
        "scaler_x = StandardScaler()\n",
        "x_train_scaled = scaler_x.fit_transform(x_train.values)\n",
        "x_test_scaled = scaler_x.transform(x_test.values)\n",
        "print('Data has been scaled.')\n",
        "\n",
        "# Ensure we have no NaNs.\n",
        "np.isnan(x_train_scaled).any()"
      ],
      "execution_count": 0,
      "outputs": [
        {
          "output_type": "stream",
          "text": [
            "Data has been scaled.\n"
          ],
          "name": "stdout"
        },
        {
          "output_type": "execute_result",
          "data": {
            "text/plain": [
              "False"
            ]
          },
          "metadata": {
            "tags": []
          },
          "execution_count": 8
        }
      ]
    },
    {
      "metadata": {
        "id": "yFienfYUn1O2",
        "colab_type": "text"
      },
      "cell_type": "markdown",
      "source": [
        "# Create and Train Simple ANN"
      ]
    },
    {
      "metadata": {
        "id": "Wg_cfk55n3Nn",
        "colab_type": "code",
        "outputId": "e6b83f2f-74cf-4c6d-ecb1-a658fd1d1bc3",
        "colab": {
          "base_uri": "https://localhost:8080/",
          "height": 499
        }
      },
      "cell_type": "code",
      "source": [
        "# This is just a silly simple ANN. Neurons per layer were selected with barely\n",
        "# any thought (except that people tend to use numbers which are powers of 2).\n",
        "ann = Sequential()\n",
        "ann.add(Dense(x_train.shape[1], input_dim=x_train.shape[1], activation='relu'))\n",
        "ann.add(Dense(256, activation='relu'))\n",
        "ann.add(Dense(128, activation='relu'))\n",
        "ann.add(Dense(64, activation='relu'))\n",
        "ann.add(Dense(1))\n",
        "\n",
        "ann.compile(loss='mean_squared_error', optimizer='adam', metrics=['mse'])\n",
        "ann.fit(x_train_scaled, y_train_scaled, epochs=10)"
      ],
      "execution_count": 0,
      "outputs": [
        {
          "output_type": "stream",
          "text": [
            "WARNING:tensorflow:From /usr/local/lib/python3.6/dist-packages/tensorflow/python/framework/op_def_library.py:263: colocate_with (from tensorflow.python.framework.ops) is deprecated and will be removed in a future version.\n",
            "Instructions for updating:\n",
            "Colocations handled automatically by placer.\n",
            "WARNING:tensorflow:From /usr/local/lib/python3.6/dist-packages/tensorflow/python/ops/math_ops.py:3066: to_int32 (from tensorflow.python.ops.math_ops) is deprecated and will be removed in a future version.\n",
            "Instructions for updating:\n",
            "Use tf.cast instead.\n",
            "Epoch 1/10\n",
            "210528/210528 [==============================] - 27s 130us/step - loss: 0.1622 - mean_squared_error: 0.1622\n",
            "Epoch 2/10\n",
            "210528/210528 [==============================] - 25s 117us/step - loss: 0.0803 - mean_squared_error: 0.0803\n",
            "Epoch 3/10\n",
            "210528/210528 [==============================] - 26s 123us/step - loss: 0.0968 - mean_squared_error: 0.0968\n",
            "Epoch 4/10\n",
            "210528/210528 [==============================] - 25s 117us/step - loss: 0.0557 - mean_squared_error: 0.0557\n",
            "Epoch 5/10\n",
            "210528/210528 [==============================] - 25s 117us/step - loss: 0.0551 - mean_squared_error: 0.0551\n",
            "Epoch 6/10\n",
            "210528/210528 [==============================] - 26s 122us/step - loss: 0.0464 - mean_squared_error: 0.0464\n",
            "Epoch 7/10\n",
            "210528/210528 [==============================] - 26s 124us/step - loss: 0.0655 - mean_squared_error: 0.0655\n",
            "Epoch 8/10\n",
            "210528/210528 [==============================] - 25s 117us/step - loss: 0.0583 - mean_squared_error: 0.0583\n",
            "Epoch 9/10\n",
            "210528/210528 [==============================] - 26s 122us/step - loss: 0.0538 - mean_squared_error: 0.0538\n",
            "Epoch 10/10\n",
            "210528/210528 [==============================] - 24s 116us/step - loss: 0.0329 - mean_squared_error: 0.0329\n"
          ],
          "name": "stdout"
        },
        {
          "output_type": "execute_result",
          "data": {
            "text/plain": [
              "<keras.callbacks.History at 0x7f07289cdc88>"
            ]
          },
          "metadata": {
            "tags": []
          },
          "execution_count": 9
        }
      ]
    },
    {
      "metadata": {
        "id": "oCZb5FTTt7Yx",
        "colab_type": "text"
      },
      "cell_type": "markdown",
      "source": [
        "# Predict with ANN"
      ]
    },
    {
      "metadata": {
        "id": "fqyHRJRQuAKm",
        "colab_type": "code",
        "outputId": "97743126-8007-4280-9d93-21bbc5f1ea6c",
        "colab": {
          "base_uri": "https://localhost:8080/",
          "height": 283
        }
      },
      "cell_type": "code",
      "source": [
        "y_pred = ann.predict(x_test_scaled)\n",
        "\n",
        "# NOTE:\n",
        "# No parameter tuning, no stopping criterion, and we're not doing too badly. \n",
        "\n",
        "# TODO: Move this import - inline imports are poor form.\n",
        "import matplotlib.pyplot as plt\n",
        "plt.scatter(y_pred, y_test_scaled)\n",
        "# If our predictions were perfect, they'd fall exactly on this line.\n",
        "plt.plot([-20, 50], [-20,50])\n",
        "plt.xlabel('prediction')\n",
        "plt.ylabel('actual')\n",
        "plt.show()"
      ],
      "execution_count": 0,
      "outputs": [
        {
          "output_type": "display_data",
          "data": {
            "image/png": "[encoded data removed]",
            "text/plain": [
              "<Figure size 432x288 with 1 Axes>"
            ]
          },
          "metadata": {
            "tags": []
          }
        }
      ]
    },
    {
      "metadata": {
        "id": "H3zu8is44-6z",
        "colab_type": "text"
      },
      "cell_type": "markdown",
      "source": [
        "# To start, try a \"simple\" 1D CNN"
      ]
    },
    {
      "metadata": {
        "id": "wK23ZEzf5GVa",
        "colab_type": "code",
        "colab": {}
      },
      "cell_type": "code",
      "source": [
        "# Benefit to the 1D CNN: We don't have to reshape our data in a complicated manner\n",
        "# Cons: TBD\n",
        "\n",
        "# TODO: Finish this up. Ran out of time :/ \n",
        "# In the section below (Reshape Data for 2D CNN) there are some useful \n",
        "# constants, etc. We may need to do some simple data reshaping for this 1D CNN,\n",
        "# like arranging the data into batches. Take a look at what was done for the \n",
        "# section below. Note that here, we would likely just have to group the data\n",
        "# into 4-week batches to pass in for convolution. To be honest, I'm not really\n",
        "# sure how this 1D convolution works though.\n",
        "\n",
        "# https://keras.io/layers/convolutional/\n",
        "cnn1d = Sequential()\n",
        "# Kernel size of 36 - 3 hours of 5 minute windows?\n",
        "cnn1d.add(Conv1D(filters=32, kernel_size=36, padding='same', input_shape=()))\n",
        "cnn1d.add(Flatten())\n",
        "cnn1d.add(Dense(64, activation='relu'))\n",
        "cnn1d.add(Dense())"
      ],
      "execution_count": 0,
      "outputs": []
    },
    {
      "metadata": {
        "id": "DBXaMW_bVvK6",
        "colab_type": "text"
      },
      "cell_type": "markdown",
      "source": [
        "# Reshape Data for 2D CNN"
      ]
    },
    {
      "metadata": {
        "id": "9bDcBV_4Vy6G",
        "colab_type": "code",
        "colab": {}
      },
      "cell_type": "code",
      "source": [
        "# TODO: revisit this and get it working. 2D convolutional would be quite \n",
        "# interesting.\n",
        "\n",
        "# # How many full weeks do we have?\n",
        "# five_min_per_week = int((1/5) * 60 * 24 * 7)\n",
        "# # Given the shape of our data, how many weeks are there? (round down)\n",
        "# weeks_train = np.floor(x_train_scaled.shape[0] / five_min_per_week).astype(int)\n",
        "# weeks_test = np.floor(x_test_scaled.shape[0] / five_min_per_week).astype(int)\n",
        "# # Given how many weeks we have and assuming we train with 4 week batches, how\n",
        "# # many batches will we have?\n",
        "# batches_train = int(np.floor(weeks_train) / 4)\n",
        "# batches_test = int(np.floor(weeks_test) / 4)\n",
        "# # Determine the ending index of the data we'll keep (trim off the end)\n",
        "# keep_train = five_min_per_week * batches_train\n",
        "# keep_test = five_min_per_week * batches_test\n",
        "\n",
        "# # Trim the training and testing data.\n",
        "\n",
        "# x_train_scaled_keep = x_train_scaled[0:keep_train, :]\n",
        "# print('Trimmed traning data shape:')\n",
        "# print(x_train_scaled_keep.shape)\n",
        "# y_train_scaled_keep = y_train_scaled[0:keep_train]\n",
        "# print(y_train_scaled_keep.shape)\n",
        "\n",
        "# x_test_scaled_keep = x_test_scaled[0:keep_test, :]\n",
        "# y_test_scaled_keep = y_test_scaled[0:keep_test]\n",
        "# print(x_test_scaled_keep.shape)\n",
        "# print(y_test_scaled_keep.shape)\n",
        "\n",
        "# # Reshape the data!\n",
        "# # Arrange the data so that we have (batch, height, width, channels). We'll first\n",
        "# # try with one \"month\" batches, so we'll have \"batches_train\" or \"batches_test\"\n",
        "# # of them. Each \"month\" is 4 weeks (the height) and has 2016 samples\n",
        "# #(five_min_per_week). Finally, we'll have a channel for each feature.\n",
        "# x_train_reshaped = np.zeros((batches_train, 4, five_min_per_week,\n",
        "#                              x_train_scaled_keep.shape[1]))\n",
        "# x_test_reshaped = np.zeros((batches_test, 4, five_min_per_week,\n",
        "#                             x_test_scaled_keep.shape[1]))\n",
        "# # TODO: how do we need to reshape the y's? Array of vectors? Row per \"month\"?\n",
        "\n",
        "# # Time steps per 4 week month:\n",
        "# t_per_m = five_min_per_week * 4\n",
        "\n",
        "# # Loop over the features\n",
        "# for f_idx in range(x_train_reshaped.shape[-1]):\n",
        "#   # Loop over the \"months\".\n",
        "#   for m_idx in range(batches_train):\n",
        "#     # Determine starting and ending index:\n",
        "#     start_idx = int(m_idx * t_per_m)\n",
        "#     end_idx = start_idx + t_per_m\n",
        "    \n",
        "#     # Extract the relevant portions of the training data.\n",
        "#     d_train = x_train_scaled_keep[start_idx:end_idx, f_idx]\n",
        "    \n",
        "#     # Reshape the training data.\n",
        "#     d_train_reshaped = np.reshape(d_train, newshape=(4, five_min_per_week))\n",
        "    \n",
        "#     # Place the data into the reshaped array.\n",
        "#     x_train_reshaped[m_idx, :, :, f_idx] = d_reshaped\n",
        "    \n",
        "#     # Repeat for the testing data. However, we'll bail if we get an index error.\n",
        "#     try:\n",
        "#       d_test = x_test_scaled_keep[start_idx:end_idx, f_idx]\n",
        "      \n",
        "#     except IndexError:\n",
        "#       pass\n",
        "#     else:\n",
        "#       try:\n",
        "#         d_test_reshaped = np.reshape(d_test, newshape=(4, five_min_per_week))\n",
        "#         x_test_reshaped[m_idx, :, :, f_idx] = d_test_reshaped\n",
        "#       except ValueError as e:\n",
        "#         print('m_idx: {}, f_idx: {}'.format(m_idx, f_idx))\n",
        "#         print('start_idx: {}, end_idx: {}'.format(start_idx, end_idx))\n",
        "#         print('Shape of x_test_scaled_keep: {}'.format(x_test_scaled_keep.shape))\n",
        "#         raise e\n",
        "    \n",
        "# print('Data reshaped.')"
      ],
      "execution_count": 0,
      "outputs": []
    },
    {
      "metadata": {
        "id": "J92bh13MQlzc",
        "colab_type": "text"
      },
      "cell_type": "markdown",
      "source": [
        "# Create 2D CNN"
      ]
    },
    {
      "metadata": {
        "id": "BnCguDPyQn2E",
        "colab_type": "code",
        "colab": {}
      },
      "cell_type": "code",
      "source": [
        "# TODO: This was left in an incomplete state.\n",
        "\n",
        "# # If training is taking too long, we may want to switch to 'SeperableConv2D'\n",
        "# # layers instead of simply Conv2D\n",
        "# model = Sequential()\n",
        "# # kernel size of 12, 4 will give us 12 5 minutes intervals and 4 weeks if the \n",
        "# # data is arranged in a weekly format.\n",
        "# # \n",
        "# # Using strides of 3, 1 so we traverse 15 minutes of data at a time.\n",
        "# model.add(Conv2D(filters=8, kernel_size=(12, 4), strides=(3, 1),\n",
        "#                  padding='same', data_format='channels_last',\n",
        "#                  input_shape=(4, five_min_per_week, x_train.shape[1])))\n",
        "# model.add(Flatten())\n",
        "# model.add(Dense(64, activation='relu'))\n",
        "# model.add(Dense(32, activation='relu'))\n",
        "# model.add(Dense(1, activation='relu'))\n",
        "\n",
        "# model.compile(loss=keras.losses.mean_squared_error, optimizer='Adam',\n",
        "#               metrics=['accuracy'])\n",
        "# print(model.summary())"
      ],
      "execution_count": 0,
      "outputs": []
    },
    {
      "metadata": {
        "id": "U60Rhpqbm0ew",
        "colab_type": "text"
      },
      "cell_type": "markdown",
      "source": [
        "# Train CNN"
      ]
    },
    {
      "metadata": {
        "id": "bNeioa_zm2We",
        "colab_type": "code",
        "colab": {}
      },
      "cell_type": "code",
      "source": [
        "# model.fit()"
      ],
      "execution_count": 0,
      "outputs": []
    }
  ]
}