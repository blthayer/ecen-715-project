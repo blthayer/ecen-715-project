{
 "cells": [
  {
   "cell_type": "markdown",
   "metadata": {},
   "source": [
    "# Imports"
   ]
  },
  {
   "cell_type": "code",
   "execution_count": 1,
   "metadata": {},
   "outputs": [
    {
     "name": "stderr",
     "output_type": "stream",
     "text": [
      "Using TensorFlow backend.\n"
     ]
    }
   ],
   "source": [
    "%matplotlib inline\n",
    "import numpy as np\n",
    "import pandas as pd\n",
    "import tensorflow as tf\n",
    "import os\n",
    "import matplotlib.pyplot as plt\n",
    "# TODO: seeding\n",
    "\n",
    "import keras\n",
    "from keras.models import Sequential\n",
    "from keras.layers import Dense, Dropout, Flatten, Conv2D, MaxPooling2D, Conv1D, SeparableConv1D, MaxPooling1D"
   ]
  },
  {
   "cell_type": "markdown",
   "metadata": {},
   "source": [
    "# Function for Reading Data"
   ]
  },
  {
   "cell_type": "code",
   "execution_count": 2,
   "metadata": {},
   "outputs": [],
   "source": [
    "def read_data(suffix=''):\n",
    "    \n",
    "    x_train_df = pd.read_csv('x_train' + suffix + '.csv', index_col=0)\n",
    "    x_test_df = pd.read_csv('x_test' + suffix + '.csv', index_col=0)\n",
    "    y_train_series = pd.read_csv('y_train' + suffix + '.csv', index_col=0, header=None)\n",
    "    y_test_series = pd.read_csv('y_test' + suffix + '.csv', index_col=0, header=None)\n",
    "\n",
    "    # Just grab the values for training.\n",
    "    x_train = x_train_df.values\n",
    "    x_test = x_test_df.values\n",
    "    y_train = y_train_series.values\n",
    "    y_test = y_test_series.values\n",
    "    print('Data loaded.')\n",
    "    \n",
    "    return x_train, y_train, x_test, y_test"
   ]
  },
  {
   "cell_type": "markdown",
   "metadata": {},
   "source": [
    "# Function to Create ANN, Define Early Stopping"
   ]
  },
  {
   "cell_type": "code",
   "execution_count": 3,
   "metadata": {},
   "outputs": [],
   "source": [
    "def init_ann(x_shape):\n",
    "    # This is just a silly simple ANN. Neurons per layer were selected with barely\n",
    "    # any thought (except that people tend to use numbers which are powers of 2).\n",
    "    ann = Sequential()\n",
    "    ann.add(Dense(x_shape[1], input_dim=x_shape[1], activation='relu'))\n",
    "    ann.add(Dense(256, activation='relu'))\n",
    "    ann.add(Dropout(0.25))\n",
    "    ann.add(Dense(128, activation='relu'))\n",
    "    ann.add(Dropout(0.25))\n",
    "    ann.add(Dense(64, activation='relu'))\n",
    "    ann.add(Dropout(0.25))\n",
    "    ann.add(Dense(1))\n",
    "\n",
    "    ann.compile(loss='mean_squared_error', optimizer='adadelta', metrics=['mse'])\n",
    "\n",
    "    ann.summary()\n",
    "    \n",
    "    return ann\n",
    "\n",
    "# Create early stopping callback.\n",
    "early_stop = keras.callbacks.EarlyStopping(monitor='val_loss', patience=10, restore_best_weights=True)"
   ]
  },
  {
   "cell_type": "markdown",
   "metadata": {},
   "source": [
    "# Function for Training and Prediction"
   ]
  },
  {
   "cell_type": "code",
   "execution_count": 25,
   "metadata": {},
   "outputs": [],
   "source": [
    "def train_predict(suffix):\n",
    "    x_train, y_train, x_test, y_test = read_data(suffix=suffix)\n",
    "\n",
    "    ann = init_ann(x_shape=x_train.shape)\n",
    "\n",
    "    # Perform the fit. We'll shuffle the data after each epoch, and withhold \n",
    "    # 20% of the data for validation.\n",
    "    ann.fit(x_train, y_train, epochs=100, shuffle=True,\n",
    "            validation_split=0.2, callbacks=[early_stop])\n",
    "    \n",
    "    y_pred = ann.predict(x_test)\n",
    "    \n",
    "    return y_pred, x_test, y_test\n",
    "    \n",
    "def plot(y_p, x_t, y_t):\n",
    "    \n",
    "    plt.scatter(y_t, y_p)\n",
    "    \n",
    "    plt.xlabel('Actual')\n",
    "    plt.ylabel('Predicted')\n",
    "    plt.title('ANN Predicted vs. Actual')\n",
    "    plt.plot([y_t.min(), y_t.max()], [y_t.min(), y_t.max()])\n",
    "#     plt.show()\n",
    "#     return plt.gca()"
   ]
  },
  {
   "cell_type": "markdown",
   "metadata": {},
   "source": [
    "# ANN with Standard Scaling"
   ]
  },
  {
   "cell_type": "code",
   "execution_count": 5,
   "metadata": {},
   "outputs": [
    {
     "name": "stdout",
     "output_type": "stream",
     "text": [
      "Data loaded.\n",
      "WARNING:tensorflow:From /usr/local/lib/python3.5/dist-packages/tensorflow/python/framework/op_def_library.py:263: colocate_with (from tensorflow.python.framework.ops) is deprecated and will be removed in a future version.\n",
      "Instructions for updating:\n",
      "Colocations handled automatically by placer.\n",
      "WARNING:tensorflow:From /usr/local/lib/python3.5/dist-packages/keras/backend/tensorflow_backend.py:3445: calling dropout (from tensorflow.python.ops.nn_ops) with keep_prob is deprecated and will be removed in a future version.\n",
      "Instructions for updating:\n",
      "Please use `rate` instead of `keep_prob`. Rate should be set to `rate = 1 - keep_prob`.\n",
      "_________________________________________________________________\n",
      "Layer (type)                 Output Shape              Param #   \n",
      "=================================================================\n",
      "dense_1 (Dense)              (None, 18)                342       \n",
      "_________________________________________________________________\n",
      "dense_2 (Dense)              (None, 256)               4864      \n",
      "_________________________________________________________________\n",
      "dropout_1 (Dropout)          (None, 256)               0         \n",
      "_________________________________________________________________\n",
      "dense_3 (Dense)              (None, 128)               32896     \n",
      "_________________________________________________________________\n",
      "dropout_2 (Dropout)          (None, 128)               0         \n",
      "_________________________________________________________________\n",
      "dense_4 (Dense)              (None, 64)                8256      \n",
      "_________________________________________________________________\n",
      "dropout_3 (Dropout)          (None, 64)                0         \n",
      "_________________________________________________________________\n",
      "dense_5 (Dense)              (None, 1)                 65        \n",
      "=================================================================\n",
      "Total params: 46,423\n",
      "Trainable params: 46,423\n",
      "Non-trainable params: 0\n",
      "_________________________________________________________________\n",
      "WARNING:tensorflow:From /usr/local/lib/python3.5/dist-packages/tensorflow/python/ops/math_ops.py:3066: to_int32 (from tensorflow.python.ops.math_ops) is deprecated and will be removed in a future version.\n",
      "Instructions for updating:\n",
      "Use tf.cast instead.\n",
      "Train on 168412 samples, validate on 42104 samples\n",
      "Epoch 1/100\n",
      "168412/168412 [==============================] - 14s 83us/step - loss: 0.8563 - mean_squared_error: 0.8563 - val_loss: 0.6151 - val_mean_squared_error: 0.6151\n",
      "Epoch 2/100\n",
      "168412/168412 [==============================] - 13s 78us/step - loss: 0.8373 - mean_squared_error: 0.8373 - val_loss: 0.6120 - val_mean_squared_error: 0.6120\n",
      "Epoch 3/100\n",
      "168412/168412 [==============================] - 13s 78us/step - loss: 0.8475 - mean_squared_error: 0.8475 - val_loss: 0.6304 - val_mean_squared_error: 0.6304\n",
      "Epoch 4/100\n",
      "168412/168412 [==============================] - 12s 73us/step - loss: 0.8559 - mean_squared_error: 0.8559 - val_loss: 0.6293 - val_mean_squared_error: 0.6293\n",
      "Epoch 5/100\n",
      "168412/168412 [==============================] - 13s 77us/step - loss: 0.8570 - mean_squared_error: 0.8570 - val_loss: 0.6120 - val_mean_squared_error: 0.6120\n",
      "Epoch 6/100\n",
      "168412/168412 [==============================] - 15s 89us/step - loss: 0.8555 - mean_squared_error: 0.8555 - val_loss: 0.6104 - val_mean_squared_error: 0.6104\n",
      "Epoch 7/100\n",
      "168412/168412 [==============================] - 13s 78us/step - loss: 0.8648 - mean_squared_error: 0.8648 - val_loss: 0.6501 - val_mean_squared_error: 0.6501\n",
      "Epoch 8/100\n",
      "168412/168412 [==============================] - 13s 79us/step - loss: 0.8662 - mean_squared_error: 0.8662 - val_loss: 0.6142 - val_mean_squared_error: 0.6142\n",
      "Epoch 9/100\n",
      "168412/168412 [==============================] - 15s 87us/step - loss: 0.8657 - mean_squared_error: 0.8657 - val_loss: 0.6037 - val_mean_squared_error: 0.6037\n",
      "Epoch 10/100\n",
      "168412/168412 [==============================] - 12s 74us/step - loss: 0.8675 - mean_squared_error: 0.8675 - val_loss: 0.6323 - val_mean_squared_error: 0.6323\n",
      "Epoch 11/100\n",
      "168412/168412 [==============================] - 13s 80us/step - loss: 0.8696 - mean_squared_error: 0.8696 - val_loss: 0.6182 - val_mean_squared_error: 0.6182\n",
      "Epoch 12/100\n",
      "168412/168412 [==============================] - 13s 77us/step - loss: 0.8693 - mean_squared_error: 0.8693 - val_loss: 0.6321 - val_mean_squared_error: 0.6321\n",
      "Epoch 13/100\n",
      "168412/168412 [==============================] - 13s 75us/step - loss: 0.8668 - mean_squared_error: 0.8668 - val_loss: 0.6445 - val_mean_squared_error: 0.6445\n",
      "Epoch 14/100\n",
      "168412/168412 [==============================] - 14s 85us/step - loss: 0.8719 - mean_squared_error: 0.8719 - val_loss: 0.6418 - val_mean_squared_error: 0.6418\n",
      "Epoch 15/100\n",
      "168412/168412 [==============================] - 14s 85us/step - loss: 0.8732 - mean_squared_error: 0.8732 - val_loss: 0.6333 - val_mean_squared_error: 0.6333\n",
      "Epoch 16/100\n",
      "168412/168412 [==============================] - 15s 87us/step - loss: 0.8755 - mean_squared_error: 0.8755 - val_loss: 0.6323 - val_mean_squared_error: 0.6323\n",
      "Epoch 17/100\n",
      "168412/168412 [==============================] - 13s 76us/step - loss: 0.8785 - mean_squared_error: 0.8785 - val_loss: 0.6269 - val_mean_squared_error: 0.6269\n",
      "Epoch 18/100\n",
      "168412/168412 [==============================] - 13s 78us/step - loss: 0.8743 - mean_squared_error: 0.8743 - val_loss: 0.6278 - val_mean_squared_error: 0.6278\n",
      "Epoch 19/100\n",
      "168412/168412 [==============================] - 13s 76us/step - loss: 0.8800 - mean_squared_error: 0.8800 - val_loss: 0.6312 - val_mean_squared_error: 0.6312\n"
     ]
    }
   ],
   "source": [
    "y_pred_s, x_test_s, y_test_s = train_predict(suffix='')"
   ]
  },
  {
   "cell_type": "code",
   "execution_count": 28,
   "metadata": {},
   "outputs": [
    {
     "data": {
      "image/png": "[encoded data removed]",
      "text/plain": [
       "<Figure size 432x288 with 1 Axes>"
      ]
     },
     "metadata": {
      "needs_background": "light"
     },
     "output_type": "display_data"
    }
   ],
   "source": [
    "plot(y_p=y_pred_s, x_t=x_test_s, y_t=y_test_s)"
   ]
  },
  {
   "cell_type": "markdown",
   "metadata": {},
   "source": [
    "# ANN with Min/Max Scaling"
   ]
  },
  {
   "cell_type": "code",
   "execution_count": 9,
   "metadata": {},
   "outputs": [
    {
     "name": "stdout",
     "output_type": "stream",
     "text": [
      "Data loaded.\n",
      "_________________________________________________________________\n",
      "Layer (type)                 Output Shape              Param #   \n",
      "=================================================================\n",
      "dense_6 (Dense)              (None, 18)                342       \n",
      "_________________________________________________________________\n",
      "dense_7 (Dense)              (None, 256)               4864      \n",
      "_________________________________________________________________\n",
      "dropout_4 (Dropout)          (None, 256)               0         \n",
      "_________________________________________________________________\n",
      "dense_8 (Dense)              (None, 128)               32896     \n",
      "_________________________________________________________________\n",
      "dropout_5 (Dropout)          (None, 128)               0         \n",
      "_________________________________________________________________\n",
      "dense_9 (Dense)              (None, 64)                8256      \n",
      "_________________________________________________________________\n",
      "dropout_6 (Dropout)          (None, 64)                0         \n",
      "_________________________________________________________________\n",
      "dense_10 (Dense)             (None, 1)                 65        \n",
      "=================================================================\n",
      "Total params: 46,423\n",
      "Trainable params: 46,423\n",
      "Non-trainable params: 0\n",
      "_________________________________________________________________\n",
      "Train on 168412 samples, validate on 42104 samples\n",
      "Epoch 1/100\n",
      "168412/168412 [==============================] - 15s 89us/step - loss: 6.0080e-04 - mean_squared_error: 6.0080e-04 - val_loss: 6.3478e-05 - val_mean_squared_error: 6.3478e-05\n",
      "Epoch 2/100\n",
      "168412/168412 [==============================] - 15s 90us/step - loss: 8.1545e-05 - mean_squared_error: 8.1545e-05 - val_loss: 6.2969e-05 - val_mean_squared_error: 6.2969e-05\n",
      "Epoch 3/100\n",
      "168412/168412 [==============================] - 15s 91us/step - loss: 8.0517e-05 - mean_squared_error: 8.0517e-05 - val_loss: 5.8561e-05 - val_mean_squared_error: 5.8561e-05\n",
      "Epoch 4/100\n",
      "168412/168412 [==============================] - 15s 92us/step - loss: 8.0319e-05 - mean_squared_error: 8.0319e-05 - val_loss: 5.7773e-05 - val_mean_squared_error: 5.7773e-05\n",
      "Epoch 5/100\n",
      "168412/168412 [==============================] - 15s 91us/step - loss: 7.9460e-05 - mean_squared_error: 7.9460e-05 - val_loss: 5.9932e-05 - val_mean_squared_error: 5.9932e-05\n",
      "Epoch 6/100\n",
      "168412/168412 [==============================] - 15s 87us/step - loss: 7.9124e-05 - mean_squared_error: 7.9124e-05 - val_loss: 5.7511e-05 - val_mean_squared_error: 5.7511e-05\n",
      "Epoch 7/100\n",
      "168412/168412 [==============================] - 15s 89us/step - loss: 7.9773e-05 - mean_squared_error: 7.9773e-05 - val_loss: 5.7943e-05 - val_mean_squared_error: 5.7943e-05\n",
      "Epoch 8/100\n",
      "168412/168412 [==============================] - 15s 91us/step - loss: 7.8499e-05 - mean_squared_error: 7.8499e-05 - val_loss: 5.5581e-05 - val_mean_squared_error: 5.5581e-05\n",
      "Epoch 9/100\n",
      "168412/168412 [==============================] - 15s 87us/step - loss: 7.9408e-05 - mean_squared_error: 7.9408e-05 - val_loss: 5.6613e-05 - val_mean_squared_error: 5.6613e-05\n",
      "Epoch 10/100\n",
      "168412/168412 [==============================] - 15s 86us/step - loss: 7.8961e-05 - mean_squared_error: 7.8961e-05 - val_loss: 5.7241e-05 - val_mean_squared_error: 5.7241e-05\n",
      "Epoch 11/100\n",
      "168412/168412 [==============================] - 16s 93us/step - loss: 7.8843e-05 - mean_squared_error: 7.8843e-05 - val_loss: 5.8017e-05 - val_mean_squared_error: 5.8017e-05\n",
      "Epoch 12/100\n",
      "168412/168412 [==============================] - 13s 79us/step - loss: 7.8578e-05 - mean_squared_error: 7.8578e-05 - val_loss: 5.6242e-05 - val_mean_squared_error: 5.6242e-05\n",
      "Epoch 13/100\n",
      "168412/168412 [==============================] - 15s 92us/step - loss: 7.7608e-05 - mean_squared_error: 7.7608e-05 - val_loss: 5.6193e-05 - val_mean_squared_error: 5.6193e-05\n",
      "Epoch 14/100\n",
      "168412/168412 [==============================] - 14s 83us/step - loss: 7.7964e-05 - mean_squared_error: 7.7964e-05 - val_loss: 5.7131e-05 - val_mean_squared_error: 5.7131e-05\n",
      "Epoch 15/100\n",
      "168412/168412 [==============================] - 14s 83us/step - loss: 7.8104e-05 - mean_squared_error: 7.8104e-05 - val_loss: 5.7265e-05 - val_mean_squared_error: 5.7265e-05\n",
      "Epoch 16/100\n",
      "168412/168412 [==============================] - 14s 83us/step - loss: 7.7966e-05 - mean_squared_error: 7.7966e-05 - val_loss: 5.5921e-05 - val_mean_squared_error: 5.5921e-05\n",
      "Epoch 17/100\n",
      "168412/168412 [==============================] - 13s 76us/step - loss: 7.8232e-05 - mean_squared_error: 7.8232e-05 - val_loss: 5.7103e-05 - val_mean_squared_error: 5.7103e-05\n",
      "Epoch 18/100\n",
      "168412/168412 [==============================] - 14s 83us/step - loss: 7.8816e-05 - mean_squared_error: 7.8816e-05 - val_loss: 5.7144e-05 - val_mean_squared_error: 5.7144e-05\n"
     ]
    }
   ],
   "source": [
    "y_pred_mm, x_test_mm, y_test_mm = train_predict(suffix='_mm')"
   ]
  },
  {
   "cell_type": "code",
   "execution_count": 27,
   "metadata": {},
   "outputs": [
    {
     "data": {
      "image/png": "[encoded data removed]",
      "text/plain": [
       "<Figure size 432x288 with 1 Axes>"
      ]
     },
     "metadata": {
      "needs_background": "light"
     },
     "output_type": "display_data"
    }
   ],
   "source": [
    "plot(y_p=y_pred_mm, x_t=x_test_mm, y_t=y_test_mm)"
   ]
  },
  {
   "cell_type": "markdown",
   "metadata": {},
   "source": [
    "# ANN with Both Standard and Min/Max Scaling"
   ]
  },
  {
   "cell_type": "code",
   "execution_count": 13,
   "metadata": {},
   "outputs": [
    {
     "name": "stdout",
     "output_type": "stream",
     "text": [
      "Data loaded.\n",
      "_________________________________________________________________\n",
      "Layer (type)                 Output Shape              Param #   \n",
      "=================================================================\n",
      "dense_11 (Dense)             (None, 18)                342       \n",
      "_________________________________________________________________\n",
      "dense_12 (Dense)             (None, 256)               4864      \n",
      "_________________________________________________________________\n",
      "dropout_7 (Dropout)          (None, 256)               0         \n",
      "_________________________________________________________________\n",
      "dense_13 (Dense)             (None, 128)               32896     \n",
      "_________________________________________________________________\n",
      "dropout_8 (Dropout)          (None, 128)               0         \n",
      "_________________________________________________________________\n",
      "dense_14 (Dense)             (None, 64)                8256      \n",
      "_________________________________________________________________\n",
      "dropout_9 (Dropout)          (None, 64)                0         \n",
      "_________________________________________________________________\n",
      "dense_15 (Dense)             (None, 1)                 65        \n",
      "=================================================================\n",
      "Total params: 46,423\n",
      "Trainable params: 46,423\n",
      "Non-trainable params: 0\n",
      "_________________________________________________________________\n",
      "Train on 168412 samples, validate on 42104 samples\n",
      "Epoch 1/100\n",
      "168412/168412 [==============================] - 16s 94us/step - loss: 5.6417e-04 - mean_squared_error: 5.6417e-04 - val_loss: 6.8504e-05 - val_mean_squared_error: 6.8504e-05\n",
      "Epoch 2/100\n",
      "168412/168412 [==============================] - 14s 80us/step - loss: 8.2132e-05 - mean_squared_error: 8.2132e-05 - val_loss: 7.0297e-05 - val_mean_squared_error: 7.0297e-05\n",
      "Epoch 3/100\n",
      "168412/168412 [==============================] - 14s 81us/step - loss: 8.1972e-05 - mean_squared_error: 8.1972e-05 - val_loss: 6.6764e-05 - val_mean_squared_error: 6.6764e-05\n",
      "Epoch 4/100\n",
      "168412/168412 [==============================] - 14s 85us/step - loss: 8.0977e-05 - mean_squared_error: 8.0977e-05 - val_loss: 6.4663e-05 - val_mean_squared_error: 6.4663e-05\n",
      "Epoch 5/100\n",
      "168412/168412 [==============================] - 15s 89us/step - loss: 8.1254e-05 - mean_squared_error: 8.1254e-05 - val_loss: 6.2450e-05 - val_mean_squared_error: 6.2450e-05\n",
      "Epoch 6/100\n",
      "168412/168412 [==============================] - 15s 90us/step - loss: 8.0706e-05 - mean_squared_error: 8.0706e-05 - val_loss: 6.2029e-05 - val_mean_squared_error: 6.2029e-05\n",
      "Epoch 7/100\n",
      "168412/168412 [==============================] - 15s 88us/step - loss: 8.1118e-05 - mean_squared_error: 8.1118e-05 - val_loss: 6.1191e-05 - val_mean_squared_error: 6.1191e-05\n",
      "Epoch 8/100\n",
      "168412/168412 [==============================] - 14s 80us/step - loss: 7.9694e-05 - mean_squared_error: 7.9694e-05 - val_loss: 5.8392e-05 - val_mean_squared_error: 5.8392e-05\n",
      "Epoch 9/100\n",
      "168412/168412 [==============================] - 13s 80us/step - loss: 8.0063e-05 - mean_squared_error: 8.0063e-05 - val_loss: 6.0251e-05 - val_mean_squared_error: 6.0251e-05\n",
      "Epoch 10/100\n",
      "168412/168412 [==============================] - 15s 88us/step - loss: 7.9570e-05 - mean_squared_error: 7.9570e-05 - val_loss: 6.0302e-05 - val_mean_squared_error: 6.0302e-05\n",
      "Epoch 11/100\n",
      "168412/168412 [==============================] - 14s 83us/step - loss: 7.9881e-05 - mean_squared_error: 7.9881e-05 - val_loss: 5.9117e-05 - val_mean_squared_error: 5.9117e-05\n",
      "Epoch 12/100\n",
      "168412/168412 [==============================] - 14s 82us/step - loss: 7.9584e-05 - mean_squared_error: 7.9584e-05 - val_loss: 6.0987e-05 - val_mean_squared_error: 6.0987e-05\n",
      "Epoch 13/100\n",
      "168412/168412 [==============================] - 13s 80us/step - loss: 7.8987e-05 - mean_squared_error: 7.8987e-05 - val_loss: 5.9503e-05 - val_mean_squared_error: 5.9503e-05\n",
      "Epoch 14/100\n",
      "168412/168412 [==============================] - 16s 97us/step - loss: 7.8939e-05 - mean_squared_error: 7.8939e-05 - val_loss: 6.3725e-05 - val_mean_squared_error: 6.3725e-05\n",
      "Epoch 15/100\n",
      "168412/168412 [==============================] - 13s 79us/step - loss: 7.9221e-05 - mean_squared_error: 7.9221e-05 - val_loss: 5.9068e-05 - val_mean_squared_error: 5.9068e-05\n",
      "Epoch 16/100\n",
      "168412/168412 [==============================] - 14s 82us/step - loss: 7.8390e-05 - mean_squared_error: 7.8390e-05 - val_loss: 5.8534e-05 - val_mean_squared_error: 5.8534e-05\n",
      "Epoch 17/100\n",
      "168412/168412 [==============================] - 14s 84us/step - loss: 7.8518e-05 - mean_squared_error: 7.8518e-05 - val_loss: 5.7262e-05 - val_mean_squared_error: 5.7262e-05\n",
      "Epoch 18/100\n",
      "168412/168412 [==============================] - 14s 82us/step - loss: 7.8688e-05 - mean_squared_error: 7.8688e-05 - val_loss: 5.9273e-05 - val_mean_squared_error: 5.9273e-05\n",
      "Epoch 19/100\n",
      "168412/168412 [==============================] - 13s 77us/step - loss: 7.8225e-05 - mean_squared_error: 7.8225e-05 - val_loss: 5.8948e-05 - val_mean_squared_error: 5.8948e-05\n",
      "Epoch 20/100\n",
      "168412/168412 [==============================] - 14s 82us/step - loss: 7.8548e-05 - mean_squared_error: 7.8548e-05 - val_loss: 5.8591e-05 - val_mean_squared_error: 5.8591e-05\n",
      "Epoch 21/100\n",
      "168412/168412 [==============================] - 14s 81us/step - loss: 7.7962e-05 - mean_squared_error: 7.7962e-05 - val_loss: 5.7700e-05 - val_mean_squared_error: 5.7700e-05\n",
      "Epoch 22/100\n",
      "168412/168412 [==============================] - 13s 78us/step - loss: 7.8519e-05 - mean_squared_error: 7.8519e-05 - val_loss: 5.8125e-05 - val_mean_squared_error: 5.8125e-05\n",
      "Epoch 23/100\n",
      "168412/168412 [==============================] - 15s 86us/step - loss: 7.8198e-05 - mean_squared_error: 7.8198e-05 - val_loss: 5.7641e-05 - val_mean_squared_error: 5.7641e-05\n",
      "Epoch 24/100\n",
      "168412/168412 [==============================] - 14s 82us/step - loss: 7.8504e-05 - mean_squared_error: 7.8504e-05 - val_loss: 5.7485e-05 - val_mean_squared_error: 5.7485e-05\n",
      "Epoch 25/100\n",
      "168412/168412 [==============================] - 13s 79us/step - loss: 7.8134e-05 - mean_squared_error: 7.8134e-05 - val_loss: 5.8180e-05 - val_mean_squared_error: 5.8180e-05\n",
      "Epoch 26/100\n",
      "168412/168412 [==============================] - 13s 80us/step - loss: 7.7664e-05 - mean_squared_error: 7.7664e-05 - val_loss: 5.9065e-05 - val_mean_squared_error: 5.9065e-05\n",
      "Epoch 27/100\n",
      "168412/168412 [==============================] - 14s 81us/step - loss: 7.7350e-05 - mean_squared_error: 7.7350e-05 - val_loss: 6.1942e-05 - val_mean_squared_error: 6.1942e-05\n"
     ]
    }
   ],
   "source": [
    "y_pred_both, x_test_both, y_test_both = train_predict(suffix='_both')"
   ]
  },
  {
   "cell_type": "code",
   "execution_count": 26,
   "metadata": {},
   "outputs": [
    {
     "data": {
      "image/png": "[encoded data removed]",
      "text/plain": [
       "<Figure size 432x288 with 1 Axes>"
      ]
     },
     "metadata": {
      "needs_background": "light"
     },
     "output_type": "display_data"
    }
   ],
   "source": [
    "plot(y_p=y_pred_both, x_t=x_test_both, y_t=y_test_both)"
   ]
  },
  {
   "cell_type": "code",
   "execution_count": null,
   "metadata": {},
   "outputs": [],
   "source": []
  }
 ],
 "metadata": {
  "kernelspec": {
   "display_name": "Python 3",
   "language": "python",
   "name": "python3"
  },
  "language_info": {
   "codemirror_mode": {
    "name": "ipython",
    "version": 3
   },
   "file_extension": ".py",
   "mimetype": "text/x-python",
   "name": "python",
   "nbconvert_exporter": "python",
   "pygments_lexer": "ipython3",
   "version": "3.5.2"
  }
 },
 "nbformat": 4,
 "nbformat_minor": 2
}
