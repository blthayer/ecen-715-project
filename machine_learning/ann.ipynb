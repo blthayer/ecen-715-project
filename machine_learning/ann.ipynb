{
 "cells": [
  {
   "cell_type": "markdown",
   "metadata": {},
   "source": [
    "# Imports"
   ]
  },
  {
   "cell_type": "code",
   "execution_count": 2,
   "metadata": {},
   "outputs": [
    {
     "name": "stderr",
     "output_type": "stream",
     "text": [
      "Using TensorFlow backend.\n"
     ]
    }
   ],
   "source": [
    "%matplotlib inline\n",
    "import numpy as np\n",
    "import pandas as pd\n",
    "import tensorflow as tf\n",
    "import os\n",
    "import matplotlib.pyplot as plt\n",
    "# TODO: seeding\n",
    "\n",
    "import keras\n",
    "from keras.models import Sequential\n",
    "from keras.layers import Dense, Dropout, Flatten, Conv2D, MaxPooling2D, Conv1D, SeparableConv1D, MaxPooling1D"
   ]
  },
  {
   "cell_type": "markdown",
   "metadata": {},
   "source": [
    "# Read Data"
   ]
  },
  {
   "cell_type": "code",
   "execution_count": 6,
   "metadata": {},
   "outputs": [
    {
     "name": "stdout",
     "output_type": "stream",
     "text": [
      "Data loaded.\n"
     ]
    }
   ],
   "source": [
    "x_train_df = pd.read_csv('x_train.csv', index_col=0)\n",
    "x_test_df = pd.read_csv('x_test.csv', index_col=0)\n",
    "y_train_series = pd.read_csv('y_train.csv', index_col=0, header=None)\n",
    "y_test_series = pd.read_csv('y_test.csv', index_col=0, header=None)\n",
    "\n",
    "# Just grab the values for training.\n",
    "x_train = x_train_df.values\n",
    "x_test = x_test_df.values\n",
    "y_train = y_train_series.values\n",
    "y_test = y_test_series.values\n",
    "print('Data loaded.')"
   ]
  },
  {
   "cell_type": "markdown",
   "metadata": {},
   "source": [
    "# Create and Train Simple ANN"
   ]
  },
  {
   "cell_type": "code",
   "execution_count": 7,
   "metadata": {},
   "outputs": [
    {
     "name": "stdout",
     "output_type": "stream",
     "text": [
      "_________________________________________________________________\n",
      "Layer (type)                 Output Shape              Param #   \n",
      "=================================================================\n",
      "dense_6 (Dense)              (None, 18)                342       \n",
      "_________________________________________________________________\n",
      "dense_7 (Dense)              (None, 256)               4864      \n",
      "_________________________________________________________________\n",
      "dropout_4 (Dropout)          (None, 256)               0         \n",
      "_________________________________________________________________\n",
      "dense_8 (Dense)              (None, 128)               32896     \n",
      "_________________________________________________________________\n",
      "dropout_5 (Dropout)          (None, 128)               0         \n",
      "_________________________________________________________________\n",
      "dense_9 (Dense)              (None, 64)                8256      \n",
      "_________________________________________________________________\n",
      "dropout_6 (Dropout)          (None, 64)                0         \n",
      "_________________________________________________________________\n",
      "dense_10 (Dense)             (None, 1)                 65        \n",
      "=================================================================\n",
      "Total params: 46,423\n",
      "Trainable params: 46,423\n",
      "Non-trainable params: 0\n",
      "_________________________________________________________________\n",
      "WARNING:tensorflow:From /usr/local/lib/python3.5/dist-packages/tensorflow/python/ops/math_ops.py:3066: to_int32 (from tensorflow.python.ops.math_ops) is deprecated and will be removed in a future version.\n",
      "Instructions for updating:\n",
      "Use tf.cast instead.\n",
      "Train on 168412 samples, validate on 42104 samples\n",
      "Epoch 1/100\n",
      "168412/168412 [==============================] - 15s 87us/step - loss: 0.8678 - mean_squared_error: 0.8678 - val_loss: 0.6332 - val_mean_squared_error: 0.6332\n",
      "Epoch 2/100\n",
      "168412/168412 [==============================] - 13s 79us/step - loss: 0.8597 - mean_squared_error: 0.8597 - val_loss: 0.6012 - val_mean_squared_error: 0.6012\n",
      "Epoch 3/100\n",
      "168412/168412 [==============================] - 13s 78us/step - loss: 0.8558 - mean_squared_error: 0.8558 - val_loss: 0.6148 - val_mean_squared_error: 0.6148\n",
      "Epoch 4/100\n",
      "168412/168412 [==============================] - 13s 78us/step - loss: 0.8580 - mean_squared_error: 0.8580 - val_loss: 0.5869 - val_mean_squared_error: 0.5869\n",
      "Epoch 5/100\n",
      "168412/168412 [==============================] - 14s 81us/step - loss: 0.8658 - mean_squared_error: 0.8658 - val_loss: 0.5914 - val_mean_squared_error: 0.5914\n",
      "Epoch 6/100\n",
      "168412/168412 [==============================] - 14s 81us/step - loss: 0.8641 - mean_squared_error: 0.8641 - val_loss: 0.5901 - val_mean_squared_error: 0.5901\n",
      "Epoch 7/100\n",
      "168412/168412 [==============================] - 14s 80us/step - loss: 0.8615 - mean_squared_error: 0.8615 - val_loss: 0.5813 - val_mean_squared_error: 0.5813\n",
      "Epoch 8/100\n",
      "168412/168412 [==============================] - 15s 88us/step - loss: 0.8568 - mean_squared_error: 0.8568 - val_loss: 0.6148 - val_mean_squared_error: 0.6148\n",
      "Epoch 9/100\n",
      "168412/168412 [==============================] - 14s 81us/step - loss: 0.8569 - mean_squared_error: 0.8569 - val_loss: 0.6386 - val_mean_squared_error: 0.6386\n",
      "Epoch 10/100\n",
      "168412/168412 [==============================] - 13s 79us/step - loss: 0.8591 - mean_squared_error: 0.8591 - val_loss: 0.6188 - val_mean_squared_error: 0.6188\n",
      "Epoch 11/100\n",
      "168412/168412 [==============================] - 13s 79us/step - loss: 0.8701 - mean_squared_error: 0.8701 - val_loss: 0.5873 - val_mean_squared_error: 0.5873\n",
      "Epoch 12/100\n",
      "168412/168412 [==============================] - 13s 79us/step - loss: 0.8634 - mean_squared_error: 0.8634 - val_loss: 0.6226 - val_mean_squared_error: 0.6226\n",
      "Epoch 13/100\n",
      "168412/168412 [==============================] - 14s 82us/step - loss: 0.8577 - mean_squared_error: 0.8577 - val_loss: 0.5745 - val_mean_squared_error: 0.5745\n",
      "Epoch 14/100\n",
      "168412/168412 [==============================] - 13s 80us/step - loss: 0.8550 - mean_squared_error: 0.8550 - val_loss: 0.6511 - val_mean_squared_error: 0.6511\n",
      "Epoch 15/100\n",
      "168412/168412 [==============================] - 13s 79us/step - loss: 0.8618 - mean_squared_error: 0.8618 - val_loss: 0.6248 - val_mean_squared_error: 0.6248\n",
      "Epoch 16/100\n",
      "168412/168412 [==============================] - 14s 81us/step - loss: 0.8692 - mean_squared_error: 0.8692 - val_loss: 0.5935 - val_mean_squared_error: 0.5935\n",
      "Epoch 17/100\n",
      "168412/168412 [==============================] - 13s 79us/step - loss: 0.8650 - mean_squared_error: 0.8650 - val_loss: 0.6416 - val_mean_squared_error: 0.6416\n",
      "Epoch 18/100\n",
      "168412/168412 [==============================] - 13s 79us/step - loss: 0.8742 - mean_squared_error: 0.8742 - val_loss: 0.6124 - val_mean_squared_error: 0.6124\n",
      "Epoch 19/100\n",
      "168412/168412 [==============================] - 13s 80us/step - loss: 0.8673 - mean_squared_error: 0.8673 - val_loss: 0.6361 - val_mean_squared_error: 0.6361\n",
      "Epoch 20/100\n",
      "168412/168412 [==============================] - 13s 79us/step - loss: 0.8666 - mean_squared_error: 0.8666 - val_loss: 0.5954 - val_mean_squared_error: 0.5954\n",
      "Epoch 21/100\n",
      "168412/168412 [==============================] - 14s 83us/step - loss: 0.8697 - mean_squared_error: 0.8697 - val_loss: 0.6186 - val_mean_squared_error: 0.6186\n",
      "Epoch 22/100\n",
      "168412/168412 [==============================] - 13s 80us/step - loss: 0.8591 - mean_squared_error: 0.8591 - val_loss: 0.5985 - val_mean_squared_error: 0.5985\n",
      "Epoch 23/100\n",
      "168412/168412 [==============================] - 13s 80us/step - loss: 0.8627 - mean_squared_error: 0.8627 - val_loss: 0.5934 - val_mean_squared_error: 0.5934\n"
     ]
    },
    {
     "data": {
      "text/plain": [
       "<keras.callbacks.History at 0x7f9442db7c50>"
      ]
     },
     "execution_count": 7,
     "metadata": {},
     "output_type": "execute_result"
    }
   ],
   "source": [
    "# This is just a silly simple ANN. Neurons per layer were selected with barely\n",
    "# any thought (except that people tend to use numbers which are powers of 2).\n",
    "ann = Sequential()\n",
    "ann.add(Dense(x_train.shape[1], input_dim=x_train.shape[1], activation='relu'))\n",
    "ann.add(Dense(256, activation='relu'))\n",
    "ann.add(Dropout(0.25))\n",
    "ann.add(Dense(128, activation='relu'))\n",
    "ann.add(Dropout(0.25))\n",
    "ann.add(Dense(64, activation='relu'))\n",
    "ann.add(Dropout(0.25))\n",
    "ann.add(Dense(1))\n",
    "\n",
    "# TODO: Optimizer? Not getting good results with adadelta or adam.\n",
    "ann.compile(loss='mean_squared_error', optimizer='adadelta', metrics=['mse'])\n",
    "\n",
    "ann.summary()\n",
    "\n",
    "# Create early stopping callback.\n",
    "early_stop = keras.callbacks.EarlyStopping(monitor='val_loss', patience=10, restore_best_weights=True)\n",
    "\n",
    "# Perform the fit. We'll shuffle the data after each epoch, and withhold \n",
    "# 20% of the data for validation.\n",
    "ann.fit(x_train, y_train, epochs=100, shuffle=True,\n",
    "        validation_split=0.2, callbacks=[early_stop])"
   ]
  },
  {
   "cell_type": "markdown",
   "metadata": {},
   "source": [
    "# Predict"
   ]
  },
  {
   "cell_type": "code",
   "execution_count": 9,
   "metadata": {},
   "outputs": [
    {
     "data": {
      "image/png": "[encoded data removed]",
      "text/plain": [
       "<Figure size 432x288 with 1 Axes>"
      ]
     },
     "metadata": {
      "needs_background": "light"
     },
     "output_type": "display_data"
    }
   ],
   "source": [
    "y_pred = ann.predict(x_test)\n",
    "\n",
    "plt.scatter(y_test, y_pred)\n",
    "# If our predictions were perfect, they'd fall exactly on this line.\n",
    "plt.plot([-20, 50], [-20,50])\n",
    "plt.xlabel('Actual')\n",
    "plt.ylabel('Predicted')\n",
    "plt.title('ANN Predicted vs. Actual After Feature Selection and Realtime Shifting')\n",
    "plt.show()"
   ]
  },
  {
   "cell_type": "code",
   "execution_count": null,
   "metadata": {},
   "outputs": [],
   "source": []
  }
 ],
 "metadata": {
  "kernelspec": {
   "display_name": "Python 3",
   "language": "python",
   "name": "python3"
  },
  "language_info": {
   "codemirror_mode": {
    "name": "ipython",
    "version": 3
   },
   "file_extension": ".py",
   "mimetype": "text/x-python",
   "name": "python",
   "nbconvert_exporter": "python",
   "pygments_lexer": "ipython3",
   "version": "3.5.2"
  }
 },
 "nbformat": 4,
 "nbformat_minor": 2
}
