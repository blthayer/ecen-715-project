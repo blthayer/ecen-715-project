{
 "cells": [
  {
   "cell_type": "markdown",
   "metadata": {},
   "source": [
    "# Proof of Concept\n",
    "The purpose of this notebook is to create a \"proof of concept\" for our ANN. Here, we'll show that given realtime data, an ANN can do okay at prediction without much effort."
   ]
  },
  {
   "cell_type": "code",
   "execution_count": 1,
   "metadata": {},
   "outputs": [
    {
     "name": "stdout",
     "output_type": "stream",
     "text": [
      "Imports complete\n"
     ]
    },
    {
     "name": "stderr",
     "output_type": "stream",
     "text": [
      "Using TensorFlow backend.\n"
     ]
    }
   ],
   "source": [
    "%matplotlib inline\n",
    "import numpy as np\n",
    "import pandas as pd\n",
    "import tensorflow as tf\n",
    "import os\n",
    "from sklearn.preprocessing import StandardScaler\n",
    "import matplotlib.pyplot as plt\n",
    "\n",
    "import keras\n",
    "from keras.models import Sequential\n",
    "from keras.layers import Dense, Dropout, Flatten, Conv2D, MaxPooling2D, Conv1D\n",
    "print('Imports complete')"
   ]
  },
  {
   "cell_type": "markdown",
   "metadata": {},
   "source": [
    "## Load Data"
   ]
  },
  {
   "cell_type": "code",
   "execution_count": 2,
   "metadata": {},
   "outputs": [
    {
     "name": "stdout",
     "output_type": "stream",
     "text": [
      "Data loaded.\n"
     ]
    }
   ],
   "source": [
    "df = pd.read_csv('all_data.csv', index_col=0, parse_dates=True,\n",
    "                 infer_datetime_format=True)\n",
    "# Why my 'tz_convert' line did nothing in combine_all_data.py, I don't know.\n",
    "df.index = pd.to_datetime(df.index, utc=True)\n",
    "# df.index = df.index.tz_localize('UTC')\n",
    "df = df.tz_convert('America/New_York')\n",
    "print('Data loaded.')"
   ]
  },
  {
   "cell_type": "markdown",
   "metadata": {},
   "source": [
    "## Light Data Cleaning"
   ]
  },
  {
   "cell_type": "code",
   "execution_count": 3,
   "metadata": {},
   "outputs": [
    {
     "name": "stdout",
     "output_type": "stream",
     "text": [
      "Columns with NaNs:\n",
      "Index([], dtype='object')\n",
      "NaN counts:\n",
      "Series([], dtype: int64)\n"
     ]
    }
   ],
   "source": [
    "# Since our time is evenly spaced, linear interpolation should do.\n",
    "# Why this didn't take in the script that created the file, I'm not sure.\n",
    "df.interpolate(method='linear', inplace=True)\n",
    "# After interpolation, there's just one NaN left. Use forward and backfilling.\n",
    "df.fillna(method='ffill', inplace=True)\n",
    "df.fillna(method='backfill', inplace=True)\n",
    "# Confirm we got rid of all the NaNs.\n",
    "nan_count = df.isna().sum()\n",
    "nan_cols = nan_count > 0\n",
    "print('Columns with NaNs:')\n",
    "print(df.columns[nan_cols])\n",
    "print('NaN counts:')\n",
    "print(nan_count[nan_cols])"
   ]
  },
  {
   "cell_type": "markdown",
   "metadata": {},
   "source": [
    "## Extract x and y"
   ]
  },
  {
   "cell_type": "code",
   "execution_count": 5,
   "metadata": {},
   "outputs": [
    {
     "name": "stdout",
     "output_type": "stream",
     "text": [
      "(315588,)\n",
      "(315588, 134)\n"
     ]
    }
   ],
   "source": [
    "# We'll predict the lbmp in NYC.\n",
    "pred_col = 'realtime_lbmp__nyc'\n",
    "\n",
    "# First, extract the column we'll be making predictions on.\n",
    "y = df[pred_col]\n",
    "x = df.drop(labels=pred_col, axis=1)\n",
    "print(y.shape)\n",
    "print(x.shape)"
   ]
  },
  {
   "cell_type": "markdown",
   "metadata": {},
   "source": [
    "## Split Data into Training and Testing Sets"
   ]
  },
  {
   "cell_type": "code",
   "execution_count": 6,
   "metadata": {},
   "outputs": [
    {
     "name": "stdout",
     "output_type": "stream",
     "text": [
      "Data split for train vs. test.\n"
     ]
    }
   ],
   "source": [
    "y_train = y['2016':'2017']\n",
    "y_test = y['2018']\n",
    "x_train = x['2016':'2017']\n",
    "x_test = x['2018']\n",
    "\n",
    "print('Data split for train vs. test.')"
   ]
  },
  {
   "cell_type": "markdown",
   "metadata": {},
   "source": [
    "## Scale Data"
   ]
  },
  {
   "cell_type": "code",
   "execution_count": 7,
   "metadata": {},
   "outputs": [
    {
     "name": "stdout",
     "output_type": "stream",
     "text": [
      "Data has been scaled.\n"
     ]
    },
    {
     "data": {
      "text/plain": [
       "False"
      ]
     },
     "execution_count": 7,
     "metadata": {},
     "output_type": "execute_result"
    }
   ],
   "source": [
    "# We'll use \"standard\" scaling\n",
    "# Scale y data.\n",
    "scaler_y = StandardScaler()\n",
    "y_train_scaled = scaler_y.fit_transform(y_train.values.reshape(-1, 1))\n",
    "y_test_scaled = scaler_y.transform(y_test.values.reshape(-1, 1))\n",
    "# \n",
    "scaler_x = StandardScaler()\n",
    "x_train_scaled = scaler_x.fit_transform(x_train.values)\n",
    "x_test_scaled = scaler_x.transform(x_test.values)\n",
    "print('Data has been scaled.')\n",
    "\n",
    "# Ensure we have no NaNs.\n",
    "# np.isnan(x_train_scaled).any()"
   ]
  },
  {
   "cell_type": "markdown",
   "metadata": {},
   "source": [
    "## Create and Train ANN"
   ]
  },
  {
   "cell_type": "code",
   "execution_count": 8,
   "metadata": {},
   "outputs": [
    {
     "name": "stdout",
     "output_type": "stream",
     "text": [
      "WARNING:tensorflow:From /usr/local/lib/python3.5/dist-packages/tensorflow/python/framework/op_def_library.py:263: colocate_with (from tensorflow.python.framework.ops) is deprecated and will be removed in a future version.\n",
      "Instructions for updating:\n",
      "Colocations handled automatically by placer.\n",
      "WARNING:tensorflow:From /usr/local/lib/python3.5/dist-packages/keras/backend/tensorflow_backend.py:3445: calling dropout (from tensorflow.python.ops.nn_ops) with keep_prob is deprecated and will be removed in a future version.\n",
      "Instructions for updating:\n",
      "Please use `rate` instead of `keep_prob`. Rate should be set to `rate = 1 - keep_prob`.\n",
      "_________________________________________________________________\n",
      "Layer (type)                 Output Shape              Param #   \n",
      "=================================================================\n",
      "dense_1 (Dense)              (None, 134)               18090     \n",
      "_________________________________________________________________\n",
      "dense_2 (Dense)              (None, 256)               34560     \n",
      "_________________________________________________________________\n",
      "dropout_1 (Dropout)          (None, 256)               0         \n",
      "_________________________________________________________________\n",
      "dense_3 (Dense)              (None, 128)               32896     \n",
      "_________________________________________________________________\n",
      "dropout_2 (Dropout)          (None, 128)               0         \n",
      "_________________________________________________________________\n",
      "dense_4 (Dense)              (None, 64)                8256      \n",
      "_________________________________________________________________\n",
      "dropout_3 (Dropout)          (None, 64)                0         \n",
      "_________________________________________________________________\n",
      "dense_5 (Dense)              (None, 1)                 65        \n",
      "=================================================================\n",
      "Total params: 93,867\n",
      "Trainable params: 93,867\n",
      "Non-trainable params: 0\n",
      "_________________________________________________________________\n",
      "WARNING:tensorflow:From /usr/local/lib/python3.5/dist-packages/tensorflow/python/ops/math_ops.py:3066: to_int32 (from tensorflow.python.ops.math_ops) is deprecated and will be removed in a future version.\n",
      "Instructions for updating:\n",
      "Use tf.cast instead.\n",
      "Train on 168422 samples, validate on 42106 samples\n",
      "Epoch 1/100\n",
      "168422/168422 [==============================] - 16s 92us/step - loss: 0.1377 - mean_squared_error: 0.1377 - val_loss: 0.0788 - val_mean_squared_error: 0.0788\n",
      "Epoch 2/100\n",
      "168422/168422 [==============================] - 14s 83us/step - loss: 0.0603 - mean_squared_error: 0.0603 - val_loss: 0.0483 - val_mean_squared_error: 0.0483\n",
      "Epoch 3/100\n",
      "168422/168422 [==============================] - 14s 86us/step - loss: 0.0541 - mean_squared_error: 0.0541 - val_loss: 0.0514 - val_mean_squared_error: 0.0514\n",
      "Epoch 4/100\n",
      "168422/168422 [==============================] - 14s 82us/step - loss: 0.0470 - mean_squared_error: 0.0470 - val_loss: 0.0434 - val_mean_squared_error: 0.0434\n",
      "Epoch 5/100\n",
      "168422/168422 [==============================] - 14s 82us/step - loss: 0.0410 - mean_squared_error: 0.0410 - val_loss: 0.0463 - val_mean_squared_error: 0.0463\n",
      "Epoch 6/100\n",
      "168422/168422 [==============================] - 13s 80us/step - loss: 0.0411 - mean_squared_error: 0.0411 - val_loss: 0.0343 - val_mean_squared_error: 0.0343\n",
      "Epoch 7/100\n",
      "168422/168422 [==============================] - 13s 80us/step - loss: 0.0396 - mean_squared_error: 0.0396 - val_loss: 0.0631 - val_mean_squared_error: 0.0631\n",
      "Epoch 8/100\n",
      "168422/168422 [==============================] - 14s 84us/step - loss: 0.0382 - mean_squared_error: 0.0382 - val_loss: 0.0343 - val_mean_squared_error: 0.0343\n",
      "Epoch 9/100\n",
      "168422/168422 [==============================] - 14s 80us/step - loss: 0.0377 - mean_squared_error: 0.0377 - val_loss: 0.0572 - val_mean_squared_error: 0.0572\n",
      "Epoch 10/100\n",
      "168422/168422 [==============================] - 13s 78us/step - loss: 0.0413 - mean_squared_error: 0.0413 - val_loss: 0.0319 - val_mean_squared_error: 0.0319\n",
      "Epoch 11/100\n",
      "168422/168422 [==============================] - 15s 87us/step - loss: 0.0340 - mean_squared_error: 0.0340 - val_loss: 0.0195 - val_mean_squared_error: 0.0195\n",
      "Epoch 12/100\n",
      "168422/168422 [==============================] - 14s 82us/step - loss: 0.0348 - mean_squared_error: 0.0348 - val_loss: 0.0599 - val_mean_squared_error: 0.0599\n",
      "Epoch 13/100\n",
      "168422/168422 [==============================] - 15s 86us/step - loss: 0.0316 - mean_squared_error: 0.0316 - val_loss: 0.0525 - val_mean_squared_error: 0.0525\n",
      "Epoch 14/100\n",
      "168422/168422 [==============================] - 14s 84us/step - loss: 0.0318 - mean_squared_error: 0.0318 - val_loss: 0.0861 - val_mean_squared_error: 0.0861\n",
      "Epoch 15/100\n",
      "168422/168422 [==============================] - 15s 89us/step - loss: 0.0364 - mean_squared_error: 0.0364 - val_loss: 0.0577 - val_mean_squared_error: 0.0577\n",
      "Epoch 16/100\n",
      "168422/168422 [==============================] - 14s 83us/step - loss: 0.0322 - mean_squared_error: 0.0322 - val_loss: 0.0762 - val_mean_squared_error: 0.0762\n",
      "Epoch 17/100\n",
      "168422/168422 [==============================] - 14s 85us/step - loss: 0.0348 - mean_squared_error: 0.0348 - val_loss: 0.0206 - val_mean_squared_error: 0.0206\n",
      "Epoch 18/100\n",
      "168422/168422 [==============================] - 14s 82us/step - loss: 0.0352 - mean_squared_error: 0.0352 - val_loss: 0.0589 - val_mean_squared_error: 0.0589\n",
      "Epoch 19/100\n",
      "168422/168422 [==============================] - 19s 110us/step - loss: 0.0396 - mean_squared_error: 0.0396 - val_loss: 0.0717 - val_mean_squared_error: 0.0717\n",
      "Epoch 20/100\n",
      "168422/168422 [==============================] - 19s 110us/step - loss: 0.0345 - mean_squared_error: 0.0345 - val_loss: 0.0577 - val_mean_squared_error: 0.0577\n",
      "Epoch 21/100\n",
      "168422/168422 [==============================] - 16s 97us/step - loss: 0.0373 - mean_squared_error: 0.0373 - val_loss: 0.0460 - val_mean_squared_error: 0.0460\n"
     ]
    },
    {
     "data": {
      "text/plain": [
       "<keras.callbacks.History at 0x7f1c2b89b080>"
      ]
     },
     "execution_count": 8,
     "metadata": {},
     "output_type": "execute_result"
    }
   ],
   "source": [
    "# This is just a silly simple ANN. Neurons per layer were selected with barely\n",
    "# any thought (except that people tend to use numbers which are powers of 2).\n",
    "ann = Sequential()\n",
    "ann.add(Dense(x_train_scaled.shape[1], input_dim=x_train_scaled.shape[1], activation='relu'))\n",
    "ann.add(Dense(256, activation='relu'))\n",
    "ann.add(Dropout(0.25))\n",
    "ann.add(Dense(128, activation='relu'))\n",
    "ann.add(Dropout(0.25))\n",
    "ann.add(Dense(64, activation='relu'))\n",
    "ann.add(Dropout(0.25))\n",
    "ann.add(Dense(1))\n",
    "\n",
    "# TODO: Optimizer? Not getting good results with adadelta or adam.\n",
    "ann.compile(loss='mean_squared_error', optimizer='adadelta', metrics=['mse'])\n",
    "\n",
    "ann.summary()\n",
    "# print(x_train_scaled.shape)\n",
    "\n",
    "# Create early stopping callback.\n",
    "early_stop = keras.callbacks.EarlyStopping(monitor='val_loss', patience=10, restore_best_weights=True)\n",
    "\n",
    "# Perform the fit. We'll shuffle the data after each epoch, and withhold \n",
    "# 20% of the data for validation.\n",
    "ann.fit(x_train_scaled, y_train_scaled, epochs=100, shuffle=True,\n",
    "        validation_split=0.2, callbacks=[early_stop])"
   ]
  },
  {
   "cell_type": "markdown",
   "metadata": {},
   "source": [
    "## Predict with ANN"
   ]
  },
  {
   "cell_type": "code",
   "execution_count": 10,
   "metadata": {},
   "outputs": [
    {
     "data": {
      "image/png": "[encoded data removed]",
      "text/plain": [
       "<Figure size 432x288 with 1 Axes>"
      ]
     },
     "metadata": {
      "needs_background": "light"
     },
     "output_type": "display_data"
    }
   ],
   "source": [
    "y_pred = ann.predict(x_test_scaled)\n",
    "\n",
    "plt.scatter(y_test_scaled, y_pred)\n",
    "# If our predictions were perfect, they'd fall exactly on this line.\n",
    "plt.plot([-20, 50], [-20,50])\n",
    "plt.xlabel('Actual')\n",
    "plt.ylabel('Predicted')\n",
    "plt.title('Predicted vs. Actual Realtime LBMP for NYC\\n(Proof of Concept)')\n",
    "plt.show()"
   ]
  },
  {
   "cell_type": "code",
   "execution_count": null,
   "metadata": {},
   "outputs": [],
   "source": []
  }
 ],
 "metadata": {
  "kernelspec": {
   "display_name": "Python 3",
   "language": "python",
   "name": "python3"
  },
  "language_info": {
   "codemirror_mode": {
    "name": "ipython",
    "version": 3
   },
   "file_extension": ".py",
   "mimetype": "text/x-python",
   "name": "python",
   "nbconvert_exporter": "python",
   "pygments_lexer": "ipython3",
   "version": "3.5.2"
  }
 },
 "nbformat": 4,
 "nbformat_minor": 2
}
